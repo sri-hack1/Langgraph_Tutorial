{
 "cells": [
  {
   "cell_type": "code",
   "execution_count": 1,
   "id": "6d8c5af2",
   "metadata": {},
   "outputs": [],
   "source": [
    "from langgraph.graph import StateGraph, START, END\n",
    "from typing import TypedDict, Annotated\n",
    "from langchain_core.messages import HumanMessage, BaseMessage\n",
    "from langchain_groq import ChatGroq\n",
    "from langgraph.graph.message import add_messages\n",
    "from dotenv import load_dotenv\n",
    "\n",
    "# Tools modules\n",
    "from langgraph.prebuilt import ToolNode, tools_condition\n",
    "from langchain_community.tools import DuckDuckGoSearchRun, WikipediaQueryRun, OpenWeatherMapQueryRun\n",
    "from langchain_community.tools import tool\n",
    "\n",
    "import requests\n",
    "import random"
   ]
  },
  {
   "cell_type": "code",
   "execution_count": 2,
   "id": "b193d702",
   "metadata": {},
   "outputs": [],
   "source": [
    "load_dotenv()\n",
    "\n",
    "llm = ChatGroq(model=\"llama-3.3-70b-versatile\", temperature=0)  # type: ignore"
   ]
  },
  {
   "cell_type": "code",
   "execution_count": 3,
   "id": "5a620f1e",
   "metadata": {},
   "outputs": [],
   "source": [
    "# Tools\n",
    "search_tool = DuckDuckGoSearchRun(region=\"us-en\")\n",
    "# wiki_tool = WikipediaQueryRun()\n",
    "# weather_tool = OpenWeatherMapQueryRun()\n",
    "\n",
    "@tool\n",
    "def calculator(first_num: float, sec_num: float, operation:str)->dict:\n",
    "    ''' Perform a basic arithmetic operation on two numbers.\n",
    "        Supported operations: add, subtract, multiply, divide.\n",
    "    '''\n",
    "    if operation == \"add\":\n",
    "        return {\"result\": first_num + sec_num}\n",
    "    elif operation == \"subtract\":\n",
    "        return {\"result\": first_num - sec_num}\n",
    "    elif operation == \"multiply\":\n",
    "        return {\"result\": first_num * sec_num}\n",
    "    elif operation == \"divide\":\n",
    "        if sec_num == 0:\n",
    "            return {\"error\": \"Division by zero is not allowed.\"}\n",
    "        return {\"result\": first_num / sec_num}\n",
    "    else:\n",
    "        return {\"error\": \"Unsupported operation {operation}\"}\n"
   ]
  },
  {
   "cell_type": "code",
   "execution_count": 4,
   "id": "6c000d7a",
   "metadata": {},
   "outputs": [],
   "source": [
    "# Make tool list\n",
    "tools = [search_tool, calculator]\n",
    "\n",
    "# Make the llm tool aware\n",
    "llm_with_tools = llm.bind_tools(tools)"
   ]
  },
  {
   "cell_type": "code",
   "execution_count": 5,
   "id": "2f222a4d",
   "metadata": {},
   "outputs": [],
   "source": [
    "# state\n",
    "class ChatState(TypedDict):\n",
    "    messages : Annotated[list[BaseMessage], add_messages]"
   ]
  },
  {
   "cell_type": "code",
   "execution_count": 6,
   "id": "318a2d06",
   "metadata": {},
   "outputs": [],
   "source": [
    "# Graph nodes\n",
    "def chat_node(state:ChatState):\n",
    "    \"\"\"LLM node that may answer or request a tool call.\"\"\"\n",
    "    messages = state[\"messages\"]\n",
    "    response = llm_with_tools.invoke(messages)\n",
    "    return {\"messages\": [response]}\n",
    "\n",
    "tool_node = ToolNode(tools)"
   ]
  },
  {
   "cell_type": "code",
   "execution_count": 7,
   "id": "933c5d41",
   "metadata": {},
   "outputs": [
    {
     "data": {
      "text/plain": [
       "<langgraph.graph.state.StateGraph at 0x23aefa107d0>"
      ]
     },
     "execution_count": 7,
     "metadata": {},
     "output_type": "execute_result"
    }
   ],
   "source": [
    "# graph structure\n",
    "graph = StateGraph(ChatState)\n",
    "\n",
    "graph.add_node(\"chat_node\", chat_node)\n",
    "graph.add_node(\"tools\", tool_node)"
   ]
  },
  {
   "cell_type": "code",
   "execution_count": 8,
   "id": "1a898f4f",
   "metadata": {},
   "outputs": [
    {
     "data": {
      "text/plain": [
       "<langgraph.graph.state.StateGraph at 0x23aefa107d0>"
      ]
     },
     "execution_count": 8,
     "metadata": {},
     "output_type": "execute_result"
    }
   ],
   "source": [
    "graph.add_edge(START, \"chat_node\")\n",
    "# If the llm askeed for a tool go to Toolnode; else finish\n",
    "graph.add_conditional_edges(\"chat_node\", tools_condition)\n",
    "\n",
    "graph.add_edge(\"tools\", \"chat_node\")\n",
    "graph.add_edge(\"chat_node\", END)"
   ]
  },
  {
   "cell_type": "code",
   "execution_count": 9,
   "id": "dc1c5416",
   "metadata": {},
   "outputs": [
    {
     "data": {
      "image/png": "[encoded data removed]",
      "text/plain": [
       "<langgraph.graph.state.CompiledStateGraph object at 0x0000023AEF963B90>"
      ]
     },
     "execution_count": 9,
     "metadata": {},
     "output_type": "execute_result"
    }
   ],
   "source": [
    "chatbot = graph.compile()\n",
    "chatbot"
   ]
  },
  {
   "cell_type": "code",
   "execution_count": 16,
   "id": "040a97a1",
   "metadata": {},
   "outputs": [
    {
     "name": "stdout",
     "output_type": "stream",
     "text": [
      "Here are some links for new Machine Learning Jobs for freshers in India:\n",
      "\n",
      "* https://www.naukri.com/fresher-machine-learning-jobs\n",
      "* https://internshala.com/jobs-machine-learning\n",
      "* https://www.glassdoor.co.in/Jobs/fresher-machine-learning-jobs-SRCH_IL.0,14.htm\n",
      "* https://www.linkedin.com/jobs/fresher-machine-learning-jobs\n",
      "* https://www.indeed.co.in/Fresher-Machine-Learning-jobs\n",
      "\n",
      "You can also check out the following companies that are hiring for Machine Learning roles in India:\n",
      "\n",
      "* Cognic Systems Pvt Ltd\n",
      "* SkillSpark\n",
      "* Silent Infotech\n",
      "* Arrk Group\n",
      "* App Innovation\n",
      "\n",
      "Some popular job roles for freshers in Machine Learning include:\n",
      "\n",
      "* Machine Learning Engineer (Intern/Junior)\n",
      "* AI Research Assistant\n",
      "* Data Analyst with ML Tools\n",
      "* Junior Data Scientist\n",
      "* AI Software Developer\n",
      "* Natural Language Processing Engineer\n",
      "\n",
      "Remember to tailor your resume and cover letter to the specific job you're applying for, and practice your coding skills to increase your chances of getting hired. Good luck!\n"
     ]
    }
   ],
   "source": [
    "out = chatbot.invoke({'messages': [HumanMessage(content=\"Fetch me links for new Machine Lerarning Jobs for freshers in India\")]})\n",
    "print(out['messages'][-1].content)"
   ]
  },
  {
   "cell_type": "code",
   "execution_count": null,
   "id": "b78a5e89",
   "metadata": {},
   "outputs": [],
   "source": []
  }
 ],
 "metadata": {
  "kernelspec": {
   "display_name": "myenv",
   "language": "python",
   "name": "python3"
  },
  "language_info": {
   "codemirror_mode": {
    "name": "ipython",
    "version": 3
   },
   "file_extension": ".py",
   "mimetype": "text/x-python",
   "name": "python",
   "nbconvert_exporter": "python",
   "pygments_lexer": "ipython3",
   "version": "3.12.7"
  }
 },
 "nbformat": 4,
 "nbformat_minor": 5
}
