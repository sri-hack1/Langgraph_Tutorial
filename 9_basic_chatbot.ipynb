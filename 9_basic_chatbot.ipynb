{
 "cells": [
  {
   "cell_type": "code",
   "execution_count": 30,
   "id": "72d68b25",
   "metadata": {},
   "outputs": [],
   "source": [
    "# Importing lib\n",
    "from langchain_groq import ChatGroq\n",
    "from langgraph.graph import StateGraph, START, END\n",
    "from langgraph.graph.message import add_messages #It's recommended when working with BaseMessage\n",
    "from langgraph.checkpoint.memory import MemorySaver\n",
    "from langchain_core.messages import BaseMessage, HumanMessage #BaseMessage is somewhat which rep that list can have all type of message\n",
    "from typing import TypedDict, Annotated\n",
    "from dotenv import load_dotenv"
   ]
  },
  {
   "cell_type": "code",
   "execution_count": 31,
   "id": "3a36820c",
   "metadata": {},
   "outputs": [],
   "source": [
    "load_dotenv()\n",
    "llm = ChatGroq(model=\"llama-3.1-8b-instant\", temperature=0)"
   ]
  },
  {
   "cell_type": "code",
   "execution_count": 32,
   "id": "4689a74b",
   "metadata": {},
   "outputs": [],
   "source": [
    "# Creating state\n",
    "class ChatState(TypedDict):\n",
    "    message: Annotated[list[BaseMessage], add_messages]"
   ]
  },
  {
   "cell_type": "code",
   "execution_count": 33,
   "id": "8660d852",
   "metadata": {},
   "outputs": [],
   "source": [
    "def chat_node(state: ChatState):\n",
    "    # take user query from state\n",
    "    message = state['message']\n",
    "    # Send it to llm\n",
    "    response = llm.invoke(message)\n",
    "    # response store to state\n",
    "    return {\"message\": [response]}"
   ]
  },
  {
   "cell_type": "code",
   "execution_count": 34,
   "id": "79df765d",
   "metadata": {},
   "outputs": [
    {
     "data": {
      "text/plain": [
       "<langgraph.graph.state.StateGraph at 0x1e7d1170aa0>"
      ]
     },
     "execution_count": 34,
     "metadata": {},
     "output_type": "execute_result"
    }
   ],
   "source": [
    "# Creating graph\n",
    "checkpointer = MemorySaver()\n",
    "graph = StateGraph(ChatState)\n",
    "\n",
    "# Creating node\n",
    "graph.add_node(\"chat_node\", chat_node)\n",
    "\n",
    "# Graph edge\n",
    "graph.add_edge(START, \"chat_node\")\n",
    "graph.add_edge(\"chat_node\", END)"
   ]
  },
  {
   "cell_type": "code",
   "execution_count": 35,
   "id": "64c283c0",
   "metadata": {},
   "outputs": [
    {
     "data": {
      "image/png": "[encoded data removed]",
      "text/plain": [
       "<langgraph.graph.state.CompiledStateGraph object at 0x000001E7D0D34A70>"
      ]
     },
     "execution_count": 35,
     "metadata": {},
     "output_type": "execute_result"
    }
   ],
   "source": [
    "workflow = graph.compile(checkpointer=checkpointer)\n",
    "workflow"
   ]
  },
  {
   "cell_type": "code",
   "execution_count": 40,
   "id": "2bc096a3",
   "metadata": {},
   "outputs": [
    {
     "data": {
      "text/plain": [
       "{'message': [HumanMessage(content=\"What's the capital of france\", additional_kwargs={}, response_metadata={}, id='7ca3b143-1227-4bae-b94c-03bf361620e3'),\n",
       "  AIMessage(content='The capital of France is Paris.', additional_kwargs={}, response_metadata={'token_usage': {'completion_tokens': 8, 'prompt_tokens': 41, 'total_tokens': 49, 'completion_time': 0.000532786, 'prompt_time': 0.0984896, 'queue_time': 0.125124199, 'total_time': 0.099022386}, 'model_name': 'llama-3.1-8b-instant', 'system_fingerprint': 'fp_2115512ff6', 'service_tier': 'on_demand', 'finish_reason': 'stop', 'logprobs': None}, id='run--e66406c0-6db9-4a68-9724-3deffbfb9b41-0', usage_metadata={'input_tokens': 41, 'output_tokens': 8, 'total_tokens': 49}),\n",
       "  HumanMessage(content=\"What's the capital of India\", additional_kwargs={}, response_metadata={}, id='9426bd59-7902-49e5-954a-5ed2ae4db8c1'),\n",
       "  AIMessage(content='The capital of India is New Delhi.', additional_kwargs={}, response_metadata={'token_usage': {'completion_tokens': 9, 'prompt_tokens': 64, 'total_tokens': 73, 'completion_time': 0.000752278, 'prompt_time': 0.117530235, 'queue_time': 0.774504694, 'total_time': 0.118282513}, 'model_name': 'llama-3.1-8b-instant', 'system_fingerprint': 'fp_c40956ddc4', 'service_tier': 'on_demand', 'finish_reason': 'stop', 'logprobs': None}, id='run--0ac713a4-ef1a-41ac-9715-1a06fadf51b9-0', usage_metadata={'input_tokens': 64, 'output_tokens': 9, 'total_tokens': 73}),\n",
       "  HumanMessage(content='My name is Srijan', additional_kwargs={}, response_metadata={}, id='e95bea3c-aa6b-4752-af5e-995667c4e7bd'),\n",
       "  AIMessage(content='Nice to meet you, Srijan. Is there anything I can help you with or would you like to chat?', additional_kwargs={}, response_metadata={'token_usage': {'completion_tokens': 25, 'prompt_tokens': 88, 'total_tokens': 113, 'completion_time': 0.020876708, 'prompt_time': 0.011857626, 'queue_time': 0.130590234, 'total_time': 0.032734334}, 'model_name': 'llama-3.1-8b-instant', 'system_fingerprint': 'fp_c40956ddc4', 'service_tier': 'on_demand', 'finish_reason': 'stop', 'logprobs': None}, id='run--b395f1ca-1ee2-4a9f-8142-26d69e5ee330-0', usage_metadata={'input_tokens': 88, 'output_tokens': 25, 'total_tokens': 113}),\n",
       "  HumanMessage(content=\"What's my name?\", additional_kwargs={}, response_metadata={}, id='0266c5fb-c25a-4e15-a7c4-0cb6f80d66c0'),\n",
       "  AIMessage(content='Your name is Srijan.', additional_kwargs={}, response_metadata={'token_usage': {'completion_tokens': 8, 'prompt_tokens': 127, 'total_tokens': 135, 'completion_time': 0.005799691, 'prompt_time': 0.024169436, 'queue_time': 0.155056223, 'total_time': 0.029969127}, 'model_name': 'llama-3.1-8b-instant', 'system_fingerprint': 'fp_2115512ff6', 'service_tier': 'on_demand', 'finish_reason': 'stop', 'logprobs': None}, id='run--32baac46-3b78-4691-9a41-8de40d143358-0', usage_metadata={'input_tokens': 127, 'output_tokens': 8, 'total_tokens': 135})]}"
      ]
     },
     "execution_count": 40,
     "metadata": {},
     "output_type": "execute_result"
    }
   ],
   "source": [
    "thread_id = '1'\n",
    "config = {\"configurable\": {'thread_id': thread_id}}\n",
    "initial_state = {'message': [HumanMessage(\"What's my name?\")]} \n",
    "final_state = workflow.invoke(initial_state, config=config)\n",
    "final_state"
   ]
  },
  {
   "cell_type": "code",
   "execution_count": null,
   "id": "eff43799",
   "metadata": {},
   "outputs": [
    {
     "name": "stdout",
     "output_type": "stream",
     "text": [
      "User msg:  Hii\n",
      "How's it going? Is there something I can help you with or would you like to chat?\n",
      "User msg:  My name is srijan\n",
      "Nice to meet you, Srijan. It's great to have you here. How's your day going so far?\n",
      "User msg:  What's my name again?\n",
      "Your name is Srijan.\n",
      "User msg:  exit\n"
     ]
    }
   ],
   "source": [
    "thread_id = '1'\n",
    "while True:\n",
    "    user_msg = input(\"Enter Text here\")\n",
    "    print(\"User msg: \", user_msg)\n",
    "    if user_msg.strip().lower() in [\"break\", \"exit\", \"bye\"]:\n",
    "        break\n",
    "    \n",
    "    config = {\"configurable\": {'thread_id': thread_id}}\n",
    "    response = workflow.invoke({\"message\": user_msg}, config=config)\n",
    "    print(response[\"message\"][-1].content)"
   ]
  },
  {
   "cell_type": "code",
   "execution_count": null,
   "id": "87bd332e",
   "metadata": {},
   "outputs": [],
   "source": []
  }
 ],
 "metadata": {
  "kernelspec": {
   "display_name": "myenv",
   "language": "python",
   "name": "python3"
  },
  "language_info": {
   "codemirror_mode": {
    "name": "ipython",
    "version": 3
   },
   "file_extension": ".py",
   "mimetype": "text/x-python",
   "name": "python",
   "nbconvert_exporter": "python",
   "pygments_lexer": "ipython3",
   "version": "3.12.7"
  }
 },
 "nbformat": 4,
 "nbformat_minor": 5
}
