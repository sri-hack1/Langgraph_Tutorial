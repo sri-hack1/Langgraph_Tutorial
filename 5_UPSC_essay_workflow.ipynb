{
 "cells": [
  {
   "cell_type": "markdown",
   "id": "beaaad8b",
   "metadata": {},
   "source": [
    "### Parallel workflow with LLM"
   ]
  },
  {
   "cell_type": "markdown",
   "id": "b3f54d03",
   "metadata": {},
   "source": [
    "Start(essay) -> 1) Clarity of text(produce Sumary+score)   -> Final eval(final sumary+score)\n",
    "             -> 2) Depth of Analysis(produce Sumary+score) ->\n",
    "             -> 3) Language(produce Sumary+score)          ->"
   ]
  },
  {
   "cell_type": "code",
   "execution_count": 16,
   "id": "eac26635",
   "metadata": {},
   "outputs": [],
   "source": [
    "from langgraph.graph import StateGraph, START, END\n",
    "from typing import TypedDict, Annotated\n",
    "from dotenv import load_dotenv\n",
    "from langchain_groq import ChatGroq\n",
    "from pydantic import BaseModel, Field\n",
    "import operator"
   ]
  },
  {
   "cell_type": "code",
   "execution_count": 17,
   "id": "fba7cae0",
   "metadata": {},
   "outputs": [],
   "source": [
    "load_dotenv()\n",
    "model = ChatGroq(model=\"meta-llama/llama-4-maverick-17b-128e-instruct\", temperature=0)"
   ]
  },
  {
   "cell_type": "code",
   "execution_count": 18,
   "id": "e58c703a",
   "metadata": {},
   "outputs": [],
   "source": [
    "# Create class for getting structured output\n",
    "class EvaluationSchema(BaseModel):\n",
    "    feedback : str = Field(description=\"Detailed feedback for the essay\")\n",
    "    score: int = Field(description=\"Give the score out of 10\", ge=0, le=10)"
   ]
  },
  {
   "cell_type": "code",
   "execution_count": 19,
   "id": "59e5c536",
   "metadata": {},
   "outputs": [],
   "source": [
    "# Creating structured output model\n",
    "structured_model = model.with_structured_output(EvaluationSchema)"
   ]
  },
  {
   "cell_type": "code",
   "execution_count": 20,
   "id": "63926ccc",
   "metadata": {},
   "outputs": [],
   "source": [
    "essay = \"\"\"The Role of Technology in Modern Education\n",
    "\n",
    "In the twenty-first century, technology has become one of the most powerful tools shaping every aspect of human life. Among its many areas of influence, education has seen a dramatic transformation. From interactive classrooms to online learning platforms, technology has redefined how knowledge is delivered, accessed, and retained. While some critics argue that it reduces personal interaction and creates dependency, the benefits of technology in education outweigh its drawbacks by fostering accessibility, engagement, and lifelong learning.\n",
    "\n",
    "One of the most significant contributions of technology to education is increased accessibility. In the past, students in remote or underdeveloped regions often lacked access to quality teachers and resources. Today, with the internet and digital devices, learners across the globe can access lectures from world-class universities, join virtual classrooms, and download educational materials. This democratization of education ensures that learning is no longer limited by geography or financial constraints.\n",
    "\n",
    "Beyond accessibility, technology also enhances student engagement. Traditional methods of teaching—based mainly on lectures and textbooks—often fail to capture students’ attention. Interactive whiteboards, educational apps, and multimedia resources make lessons more dynamic and relatable. For example, virtual reality can bring history to life by allowing students to “visit” ancient civilizations, while simulations in science enable them to experiment in safe, controlled environments. These tools not only improve comprehension but also encourage curiosity and creativity.\n",
    "\n",
    "Furthermore, technology fosters lifelong learning, an essential skill in a rapidly changing world. With industries constantly evolving, individuals must continuously update their knowledge and skills. Online courses, webinars, and digital certifications allow people to learn at their own pace, even while managing careers and family responsibilities. This flexibility helps create a culture of continuous growth, preparing individuals for the challenges of the modern workforce.\n",
    "\n",
    "However, it is important to acknowledge the potential drawbacks. Overreliance on technology can limit face-to-face interactions, which are crucial for developing communication and social skills. Moreover, unequal access to devices and the internet may deepen the gap between privileged and underprivileged learners. To address these issues, governments and institutions must balance digital education with traditional methods while ensuring equitable access to resources.\n",
    "\n",
    "In conclusion, technology has revolutionized modern education by breaking barriers of distance, enhancing engagement, and promoting lifelong learning. While challenges remain, the responsible integration of digital tools promises to make education more inclusive, effective, and adaptable to the future. Ultimately, technology should not replace teachers but empower them, creating a learning environment that combines human guidance with the limitless possibilities of innovation.\n",
    "\n",
    "\n",
    "\"\"\""
   ]
  },
  {
   "cell_type": "code",
   "execution_count": 21,
   "id": "465e9f54",
   "metadata": {},
   "outputs": [
    {
     "data": {
      "text/plain": [
       "\"The essay effectively discusses the role of technology in modern education, highlighting its benefits such as increased accessibility, enhanced student engagement, and fostering lifelong learning. The arguments are well-supported with relevant examples, and the essay acknowledges potential drawbacks and suggests balanced solutions. The writing is clear, and the structure is logical, making it easy to follow the author's points. However, to improve, the essay could benefit from more varied sentence structures and more nuanced arguments to deepen the analysis.\""
      ]
     },
     "execution_count": 21,
     "metadata": {},
     "output_type": "execute_result"
    }
   ],
   "source": [
    "# \n",
    "prompt = f\"Evaluate the language quality of the essay and provide a feedback and assign a score out of 10 based on {essay}\"\n",
    "structured_model.invoke(prompt).feedback"
   ]
  },
  {
   "cell_type": "code",
   "execution_count": 22,
   "id": "2371fffb",
   "metadata": {},
   "outputs": [],
   "source": [
    "# Create a State\n",
    "class UPSCState(TypedDict):\n",
    "    essay: str\n",
    "    language_feedback: str\n",
    "    analysis_feedback: str\n",
    "    clarity_feedback: str\n",
    "    overall_feedback: str\n",
    "    individual_scores: Annotated[list[int], operator.add]\n",
    "    avg_score: float"
   ]
  },
  {
   "cell_type": "code",
   "execution_count": 23,
   "id": "02ff4109",
   "metadata": {},
   "outputs": [],
   "source": [
    "# Function to eval langauge\n",
    "def eval_language(state: UPSCState)-> UPSCState:\n",
    "    prompt = f\"Evaluate the language quality of the essay and provide a feedback and assign a score out of 10 based on {state[\"essay\"]}\"\n",
    "    output = structured_model.invoke(prompt)\n",
    "    return {\n",
    "        \"language_feedback\" : output.feedback,\n",
    "        \"individual_scores\": [output.score]\n",
    "    }\n",
    "    \n",
    "# Fuccntion to evaluyate analysis\n",
    "def eval_analysis(state: UPSCState)-> UPSCState:\n",
    "    prompt = f\"Evaluate the Depth of analysis of the essay and provide a feedback and assign a score out of 10 based on {state[\"essay\"]}\"\n",
    "    output = structured_model.invoke(prompt)\n",
    "    return {\n",
    "        \"analysis_feedback\" : output.feedback,\n",
    "        \"individual_scores\": [output.score]\n",
    "    }\n",
    "    \n",
    "# Function to eval clarity of speech\n",
    "def eval_clarity(state: UPSCState)-> UPSCState:\n",
    "    prompt = f\"Evaluate the clarity of thought of the essay and provide a feedback and assign a score out of 10 based on {state[\"essay\"]}\"\n",
    "    output = structured_model.invoke(prompt)\n",
    "    return {\n",
    "        \"clarity_feedback\" : output.feedback,\n",
    "        \"individual_scores\": [output.score]\n",
    "    }\n",
    "    \n",
    "# Final eval fucntion\n",
    "def final_eval(state: UPSCState)-> UPSCState:\n",
    "    # Generating the summary feedback\n",
    "    prompt = f\"Based on the following feedback, create a summarised feedback \\n language_feedback {state['language_feedback']},\\n depth of analysis feedback {state['analysis_feedback']},\\n clarity of though feedback {state['clarity_feedback']}\"\n",
    "    overall_feedback = model.invoke(prompt).content\n",
    "    # Avg score\n",
    "    avg_score = sum(state[\"individual_scores\"])/ len(state[\"individual_scores\"])\n",
    "    \n",
    "    return {\n",
    "        \"overall_feedback\": overall_feedback,\n",
    "        \"avg_score\": avg_score\n",
    "    }"
   ]
  },
  {
   "cell_type": "code",
   "execution_count": 33,
   "id": "92a97c17",
   "metadata": {},
   "outputs": [
    {
     "data": {
      "image/png": "[encoded data removed]",
      "text/plain": [
       "<langgraph.graph.state.CompiledStateGraph object at 0x000001A3C1D6D2B0>"
      ]
     },
     "execution_count": 33,
     "metadata": {},
     "output_type": "execute_result"
    }
   ],
   "source": [
    "# Create a graph\n",
    "graph = StateGraph(UPSCState)\n",
    "\n",
    "# Create nodes\n",
    "graph.add_node(\"eval_language\", eval_language)\n",
    "graph.add_node(\"eval_analysis\", eval_analysis)\n",
    "graph.add_node(\"eval_clarity\", eval_clarity)\n",
    "graph.add_node(\"final_eval\", final_eval)\n",
    "\n",
    "# Create edges\n",
    "graph.add_edge(START, \"eval_language\")\n",
    "graph.add_edge(START, \"eval_analysis\")\n",
    "graph.add_edge(START, \"eval_clarity\")\n",
    "\n",
    "graph.add_edge(\"eval_language\", \"final_eval\")\n",
    "graph.add_edge(\"eval_analysis\", \"final_eval\")\n",
    "graph.add_edge(\"eval_clarity\", \"final_eval\")\n",
    "\n",
    "graph.add_edge(\"final_eval\", END)\n",
    "\n",
    "\n",
    "# Compile the graph\n",
    "workflow = graph.compile()\n",
    "workflow"
   ]
  },
  {
   "cell_type": "code",
   "execution_count": 34,
   "id": "a636962d",
   "metadata": {},
   "outputs": [
    {
     "data": {
      "text/plain": [
       "{'essay': 'The Role of Technology in Modern Education\\n\\nIn the twenty-first century, technology has become one of the most powerful tools shaping every aspect of human life. Among its many areas of influence, education has seen a dramatic transformation. From interactive classrooms to online learning platforms, technology has redefined how knowledge is delivered, accessed, and retained. While some critics argue that it reduces personal interaction and creates dependency, the benefits of technology in education outweigh its drawbacks by fostering accessibility, engagement, and lifelong learning.\\n\\nOne of the most significant contributions of technology to education is increased accessibility. In the past, students in remote or underdeveloped regions often lacked access to quality teachers and resources. Today, with the internet and digital devices, learners across the globe can access lectures from world-class universities, join virtual classrooms, and download educational materials. This democratization of education ensures that learning is no longer limited by geography or financial constraints.\\n\\nBeyond accessibility, technology also enhances student engagement. Traditional methods of teaching—based mainly on lectures and textbooks—often fail to capture students’ attention. Interactive whiteboards, educational apps, and multimedia resources make lessons more dynamic and relatable. For example, virtual reality can bring history to life by allowing students to “visit” ancient civilizations, while simulations in science enable them to experiment in safe, controlled environments. These tools not only improve comprehension but also encourage curiosity and creativity.\\n\\nFurthermore, technology fosters lifelong learning, an essential skill in a rapidly changing world. With industries constantly evolving, individuals must continuously update their knowledge and skills. Online courses, webinars, and digital certifications allow people to learn at their own pace, even while managing careers and family responsibilities. This flexibility helps create a culture of continuous growth, preparing individuals for the challenges of the modern workforce.\\n\\nHowever, it is important to acknowledge the potential drawbacks. Overreliance on technology can limit face-to-face interactions, which are crucial for developing communication and social skills. Moreover, unequal access to devices and the internet may deepen the gap between privileged and underprivileged learners. To address these issues, governments and institutions must balance digital education with traditional methods while ensuring equitable access to resources.\\n\\nIn conclusion, technology has revolutionized modern education by breaking barriers of distance, enhancing engagement, and promoting lifelong learning. While challenges remain, the responsible integration of digital tools promises to make education more inclusive, effective, and adaptable to the future. Ultimately, technology should not replace teachers but empower them, creating a learning environment that combines human guidance with the limitless possibilities of innovation.\\n\\n\\n',\n",
       " 'language_feedback': 'The essay effectively discusses the role of technology in modern education, highlighting its benefits such as increased accessibility, enhanced student engagement, and fostering lifelong learning. The writer provides relevant examples and acknowledges potential drawbacks, such as reduced personal interaction and unequal access to technology. The essay is well-structured, with a clear introduction, body, and conclusion. The language is formal and appropriate for an academic essay. However, there are a few areas where sentence structure could be varied to improve readability, and some paragraphs could be more tightly linked to enhance coherence.',\n",
       " 'analysis_feedback': 'The essay provides a well-structured and comprehensive analysis of the role of technology in modern education. It effectively discusses the benefits of technology, such as increased accessibility, enhanced student engagement, and the promotion of lifelong learning. The essay also acknowledges potential drawbacks, including the risk of reduced face-to-face interaction and unequal access to digital resources. The writer offers balanced perspectives and suggests that governments and institutions should ensure equitable access to digital tools while integrating them with traditional teaching methods. The conclusion effectively summarizes the main points and emphasizes the potential of technology to revolutionize education. However, to improve, the essay could include more specific examples or case studies to support its arguments, and some paragraphs could be more tightly linked to enhance the overall flow.',\n",
       " 'clarity_feedback': \"The essay effectively discusses the role of technology in modern education, highlighting its benefits such as increased accessibility, enhanced student engagement, and fostering lifelong learning. The arguments are well-structured and supported with relevant examples. The essay also acknowledges potential drawbacks and suggests balanced solutions. The writing is clear, and the ideas are logically presented, making it easy to follow the author's thoughts. However, to improve, the essay could benefit from more nuanced counterarguments and deeper analysis of the challenges mentioned.\",\n",
       " 'overall_feedback': \"Here is a summarised feedback based on the given inputs:\\n\\n**Overall Feedback**\\n\\nThe essay provides a comprehensive analysis of the role of technology in modern education, highlighting its benefits and drawbacks. The writer presents a well-structured argument, supported by relevant examples, and suggests balanced solutions. The language is formal and clear, making it easy to follow the author's thoughts.\\n\\n**Key Strengths**\\n\\n* Well-structured essay with a clear introduction, body, and conclusion\\n* Effective discussion of the benefits and drawbacks of technology in education\\n* Balanced perspectives and suggestions for improvement\\n\\n**Key Areas for Improvement**\\n\\n* Varying sentence structure to improve readability\\n* Enhancing coherence by linking paragraphs more tightly\\n* Including more specific examples or case studies to support arguments\\n* Providing more nuanced counterarguments and deeper analysis of challenges\\n\\nOverall, the essay demonstrates a good understanding of the topic and presents a clear argument. With some revisions to address the areas mentioned above, it has the potential to be even stronger.\",\n",
       " 'individual_scores': [8, 8, 8],\n",
       " 'avg_score': 8.0}"
      ]
     },
     "execution_count": 34,
     "metadata": {},
     "output_type": "execute_result"
    }
   ],
   "source": [
    "initial_state = {\"essay\":essay}\n",
    "final_state = workflow.invoke(initial_state)\n",
    "final_state"
   ]
  },
  {
   "cell_type": "code",
   "execution_count": null,
   "id": "5e014508",
   "metadata": {},
   "outputs": [],
   "source": []
  }
 ],
 "metadata": {
  "kernelspec": {
   "display_name": "myenv",
   "language": "python",
   "name": "python3"
  },
  "language_info": {
   "codemirror_mode": {
    "name": "ipython",
    "version": 3
   },
   "file_extension": ".py",
   "mimetype": "text/x-python",
   "name": "python",
   "nbconvert_exporter": "python",
   "pygments_lexer": "ipython3",
   "version": "3.12.7"
  }
 },
 "nbformat": 4,
 "nbformat_minor": 5
}
