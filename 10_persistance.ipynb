{
 "cells": [
  {
   "cell_type": "markdown",
   "id": "cef408bc",
   "metadata": {},
   "source": [
    "## Memory Implementation \n",
    "We can user it as Resume conversation or new conversation page by assisgning different thread id's\n",
    "-> Short term memory\n",
    "-> Fault tolerance\n",
    "-> Human in the loop\n",
    "-> Time travel"
   ]
  },
  {
   "cell_type": "code",
   "execution_count": 1,
   "id": "47f06ebb",
   "metadata": {},
   "outputs": [],
   "source": [
    "# Importing the module\n",
    "from langchain_groq import ChatGroq\n",
    "from langgraph.graph import StateGraph, START, END\n",
    "from langgraph.checkpoint.memory import InMemorySaver #Saves in RAM\n",
    "from typing import TypedDict\n",
    "from dotenv import load_dotenv"
   ]
  },
  {
   "cell_type": "code",
   "execution_count": 2,
   "id": "0ef4cc6a",
   "metadata": {},
   "outputs": [],
   "source": [
    "load_dotenv()\n",
    "llm = ChatGroq(model=\"llama-3.1-8b-instant\", temperature=0)"
   ]
  },
  {
   "cell_type": "code",
   "execution_count": 3,
   "id": "59bc0df6",
   "metadata": {},
   "outputs": [],
   "source": [
    "# Creating a state\n",
    "class JokeState(TypedDict):\n",
    "    topic: str\n",
    "    joke: str\n",
    "    explanation : str"
   ]
  },
  {
   "cell_type": "code",
   "execution_count": 4,
   "id": "7156eb5b",
   "metadata": {},
   "outputs": [],
   "source": [
    "# Function of joke\n",
    "def gen_joke(state: JokeState):\n",
    "    prompt = f\" Generate a funny joke from the topic {state[\"topic\"]}\"\n",
    "    response = llm.invoke(prompt)\n",
    "    return {\"joke\": response}\n",
    "\n",
    "def gen_explanation(state: JokeState):\n",
    "    prompt = f\"{state[\"joke\"]} This is a joke, I want you to explain it.\"\n",
    "    response = llm.invoke(prompt)\n",
    "    return {\"explanation\": response}"
   ]
  },
  {
   "cell_type": "code",
   "execution_count": 5,
   "id": "e2f0efd2",
   "metadata": {},
   "outputs": [
    {
     "data": {
      "image/png": "[encoded data removed]",
      "text/plain": [
       "<langgraph.graph.state.CompiledStateGraph object at 0x000002826C3254C0>"
      ]
     },
     "execution_count": 5,
     "metadata": {},
     "output_type": "execute_result"
    }
   ],
   "source": [
    "# Creating a graph\n",
    "graph = StateGraph(JokeState)\n",
    "\n",
    "# Creating nodes\n",
    "graph.add_node('gen_joke', gen_joke)\n",
    "graph.add_node('gen_explanation', gen_explanation)\n",
    "\n",
    "# creating edges\n",
    "graph.add_edge(START, 'gen_joke')\n",
    "graph.add_edge('gen_joke', 'gen_explanation')\n",
    "graph.add_edge('gen_explanation', END)\n",
    "\n",
    "# Creating thing for memory\n",
    "checkpointer = InMemorySaver()\n",
    "# Compiling with memory\n",
    "workflow = graph.compile(checkpointer)\n",
    "workflow"
   ]
  },
  {
   "cell_type": "code",
   "execution_count": 6,
   "id": "6a88b641",
   "metadata": {},
   "outputs": [
    {
     "data": {
      "text/plain": [
       "{'topic': 'pizza',\n",
       " 'joke': AIMessage(content='Why did the pizza go to therapy? \\n\\nBecause it was feeling crusty and had a lot of topping issues.', additional_kwargs={}, response_metadata={'token_usage': {'completion_tokens': 24, 'prompt_tokens': 43, 'total_tokens': 67, 'completion_time': 0.026194333, 'prompt_time': 0.084625438, 'queue_time': 0.061955262, 'total_time': 0.110819771}, 'model_name': 'llama-3.1-8b-instant', 'system_fingerprint': 'fp_2115512ff6', 'service_tier': 'on_demand', 'finish_reason': 'stop', 'logprobs': None}, id='run--c8b8323f-712c-4afb-a662-fec948fb6e40-0', usage_metadata={'input_tokens': 43, 'output_tokens': 24, 'total_tokens': 67}),\n",
       " 'explanation': AIMessage(content='This is a joke about a pizza going to therapy. Here\\'s a breakdown of the joke:\\n\\n- The setup is \"Why did the pizza go to therapy?\" This is a common joke format where the punchline is a play on words or a unexpected twist.\\n- The punchline is \"Because it was feeling crusty and had a lot of topping issues.\" This is where the joke is. The word \"crusty\" has a double meaning here:\\n  - A pizza crust is the outer layer of a pizza, which is often crispy or crunchy.\\n  - The phrase \"feeling crusty\" is also an idiom that means feeling grumpy or irritable.\\n- The phrase \"had a lot of topping issues\" is also a play on words:\\n  - A pizza topping is a ingredient added on top of the pizza, such as cheese, pepperoni, or vegetables.\\n  - The phrase \"topping issues\" sounds like \"tough issues\" or \"problems\", implying that the pizza has emotional or psychological issues that it needs to work through in therapy.\\n\\nOverall, the joke is a play on words and uses the common format of a joke to create a humorous connection between the setup and the punchline.', additional_kwargs={}, response_metadata={'token_usage': {'completion_tokens': 247, 'prompt_tokens': 253, 'total_tokens': 500, 'completion_time': 0.367460049, 'prompt_time': 0.065347236, 'queue_time': 0.045347873, 'total_time': 0.432807285}, 'model_name': 'llama-3.1-8b-instant', 'system_fingerprint': 'fp_c40956ddc4', 'service_tier': 'on_demand', 'finish_reason': 'stop', 'logprobs': None}, id='run--e272e9b9-cf4a-4865-bcf6-331b93463de1-0', usage_metadata={'input_tokens': 253, 'output_tokens': 247, 'total_tokens': 500})}"
      ]
     },
     "execution_count": 6,
     "metadata": {},
     "output_type": "execute_result"
    }
   ],
   "source": [
    "# Executing workflow\n",
    "thread_id = '1'\n",
    "config = {'configurable': {'thread_id': thread_id}}\n",
    "workflow.invoke({\"topic\":\"pizza\"}, config=config)"
   ]
  },
  {
   "cell_type": "code",
   "execution_count": 7,
   "id": "42b34c6c",
   "metadata": {},
   "outputs": [
    {
     "data": {
      "text/plain": [
       "StateSnapshot(values={'topic': 'pizza', 'joke': AIMessage(content='Why did the pizza go to therapy? \\n\\nBecause it was feeling crusty and had a lot of topping issues.', additional_kwargs={}, response_metadata={'token_usage': {'completion_tokens': 24, 'prompt_tokens': 43, 'total_tokens': 67, 'completion_time': 0.026194333, 'prompt_time': 0.084625438, 'queue_time': 0.061955262, 'total_time': 0.110819771}, 'model_name': 'llama-3.1-8b-instant', 'system_fingerprint': 'fp_2115512ff6', 'service_tier': 'on_demand', 'finish_reason': 'stop', 'logprobs': None}, id='run--c8b8323f-712c-4afb-a662-fec948fb6e40-0', usage_metadata={'input_tokens': 43, 'output_tokens': 24, 'total_tokens': 67}), 'explanation': AIMessage(content='This is a joke about a pizza going to therapy. Here\\'s a breakdown of the joke:\\n\\n- The setup is \"Why did the pizza go to therapy?\" This is a common joke format where the punchline is a play on words or a unexpected twist.\\n- The punchline is \"Because it was feeling crusty and had a lot of topping issues.\" This is where the joke is. The word \"crusty\" has a double meaning here:\\n  - A pizza crust is the outer layer of a pizza, which is often crispy or crunchy.\\n  - The phrase \"feeling crusty\" is also an idiom that means feeling grumpy or irritable.\\n- The phrase \"had a lot of topping issues\" is also a play on words:\\n  - A pizza topping is a ingredient added on top of the pizza, such as cheese, pepperoni, or vegetables.\\n  - The phrase \"topping issues\" sounds like \"tough issues\" or \"problems\", implying that the pizza has emotional or psychological issues that it needs to work through in therapy.\\n\\nOverall, the joke is a play on words and uses the common format of a joke to create a humorous connection between the setup and the punchline.', additional_kwargs={}, response_metadata={'token_usage': {'completion_tokens': 247, 'prompt_tokens': 253, 'total_tokens': 500, 'completion_time': 0.367460049, 'prompt_time': 0.065347236, 'queue_time': 0.045347873, 'total_time': 0.432807285}, 'model_name': 'llama-3.1-8b-instant', 'system_fingerprint': 'fp_c40956ddc4', 'service_tier': 'on_demand', 'finish_reason': 'stop', 'logprobs': None}, id='run--e272e9b9-cf4a-4865-bcf6-331b93463de1-0', usage_metadata={'input_tokens': 253, 'output_tokens': 247, 'total_tokens': 500})}, next=(), config={'configurable': {'thread_id': '1', 'checkpoint_ns': '', 'checkpoint_id': '1f08d66b-6d15-626a-8002-900a7304d02b'}}, metadata={'source': 'loop', 'step': 2, 'parents': {}}, created_at='2025-09-09T10:21:14.183741+00:00', parent_config={'configurable': {'thread_id': '1', 'checkpoint_ns': '', 'checkpoint_id': '1f08d66b-6780-6a77-8001-bc3793e6f439'}}, tasks=(), interrupts=())"
      ]
     },
     "execution_count": 7,
     "metadata": {},
     "output_type": "execute_result"
    }
   ],
   "source": [
    "# Can get state of our workflow\n",
    "workflow.get_state(config)"
   ]
  },
  {
   "cell_type": "code",
   "execution_count": 8,
   "id": "56f09182",
   "metadata": {},
   "outputs": [
    {
     "data": {
      "text/plain": [
       "[StateSnapshot(values={'topic': 'pizza', 'joke': AIMessage(content='Why did the pizza go to therapy? \\n\\nBecause it was feeling crusty and had a lot of topping issues.', additional_kwargs={}, response_metadata={'token_usage': {'completion_tokens': 24, 'prompt_tokens': 43, 'total_tokens': 67, 'completion_time': 0.026194333, 'prompt_time': 0.084625438, 'queue_time': 0.061955262, 'total_time': 0.110819771}, 'model_name': 'llama-3.1-8b-instant', 'system_fingerprint': 'fp_2115512ff6', 'service_tier': 'on_demand', 'finish_reason': 'stop', 'logprobs': None}, id='run--c8b8323f-712c-4afb-a662-fec948fb6e40-0', usage_metadata={'input_tokens': 43, 'output_tokens': 24, 'total_tokens': 67}), 'explanation': AIMessage(content='This is a joke about a pizza going to therapy. Here\\'s a breakdown of the joke:\\n\\n- The setup is \"Why did the pizza go to therapy?\" This is a common joke format where the punchline is a play on words or a unexpected twist.\\n- The punchline is \"Because it was feeling crusty and had a lot of topping issues.\" This is where the joke is. The word \"crusty\" has a double meaning here:\\n  - A pizza crust is the outer layer of a pizza, which is often crispy or crunchy.\\n  - The phrase \"feeling crusty\" is also an idiom that means feeling grumpy or irritable.\\n- The phrase \"had a lot of topping issues\" is also a play on words:\\n  - A pizza topping is a ingredient added on top of the pizza, such as cheese, pepperoni, or vegetables.\\n  - The phrase \"topping issues\" sounds like \"tough issues\" or \"problems\", implying that the pizza has emotional or psychological issues that it needs to work through in therapy.\\n\\nOverall, the joke is a play on words and uses the common format of a joke to create a humorous connection between the setup and the punchline.', additional_kwargs={}, response_metadata={'token_usage': {'completion_tokens': 247, 'prompt_tokens': 253, 'total_tokens': 500, 'completion_time': 0.367460049, 'prompt_time': 0.065347236, 'queue_time': 0.045347873, 'total_time': 0.432807285}, 'model_name': 'llama-3.1-8b-instant', 'system_fingerprint': 'fp_c40956ddc4', 'service_tier': 'on_demand', 'finish_reason': 'stop', 'logprobs': None}, id='run--e272e9b9-cf4a-4865-bcf6-331b93463de1-0', usage_metadata={'input_tokens': 253, 'output_tokens': 247, 'total_tokens': 500})}, next=(), config={'configurable': {'thread_id': '1', 'checkpoint_ns': '', 'checkpoint_id': '1f08d66b-6d15-626a-8002-900a7304d02b'}}, metadata={'source': 'loop', 'step': 2, 'parents': {}}, created_at='2025-09-09T10:21:14.183741+00:00', parent_config={'configurable': {'thread_id': '1', 'checkpoint_ns': '', 'checkpoint_id': '1f08d66b-6780-6a77-8001-bc3793e6f439'}}, tasks=(), interrupts=()),\n",
       " StateSnapshot(values={'topic': 'pizza', 'joke': AIMessage(content='Why did the pizza go to therapy? \\n\\nBecause it was feeling crusty and had a lot of topping issues.', additional_kwargs={}, response_metadata={'token_usage': {'completion_tokens': 24, 'prompt_tokens': 43, 'total_tokens': 67, 'completion_time': 0.026194333, 'prompt_time': 0.084625438, 'queue_time': 0.061955262, 'total_time': 0.110819771}, 'model_name': 'llama-3.1-8b-instant', 'system_fingerprint': 'fp_2115512ff6', 'service_tier': 'on_demand', 'finish_reason': 'stop', 'logprobs': None}, id='run--c8b8323f-712c-4afb-a662-fec948fb6e40-0', usage_metadata={'input_tokens': 43, 'output_tokens': 24, 'total_tokens': 67})}, next=('gen_explanation',), config={'configurable': {'thread_id': '1', 'checkpoint_ns': '', 'checkpoint_id': '1f08d66b-6780-6a77-8001-bc3793e6f439'}}, metadata={'source': 'loop', 'step': 1, 'parents': {}}, created_at='2025-09-09T10:21:13.598629+00:00', parent_config={'configurable': {'thread_id': '1', 'checkpoint_ns': '', 'checkpoint_id': '1f08d66b-6022-6b92-8000-64a2953f6ce3'}}, tasks=(PregelTask(id='ef47082a-03c7-73c0-2cdd-00d1a4e8cf4e', name='gen_explanation', path=('__pregel_pull', 'gen_explanation'), error=None, interrupts=(), state=None, result={'explanation': AIMessage(content='This is a joke about a pizza going to therapy. Here\\'s a breakdown of the joke:\\n\\n- The setup is \"Why did the pizza go to therapy?\" This is a common joke format where the punchline is a play on words or a unexpected twist.\\n- The punchline is \"Because it was feeling crusty and had a lot of topping issues.\" This is where the joke is. The word \"crusty\" has a double meaning here:\\n  - A pizza crust is the outer layer of a pizza, which is often crispy or crunchy.\\n  - The phrase \"feeling crusty\" is also an idiom that means feeling grumpy or irritable.\\n- The phrase \"had a lot of topping issues\" is also a play on words:\\n  - A pizza topping is a ingredient added on top of the pizza, such as cheese, pepperoni, or vegetables.\\n  - The phrase \"topping issues\" sounds like \"tough issues\" or \"problems\", implying that the pizza has emotional or psychological issues that it needs to work through in therapy.\\n\\nOverall, the joke is a play on words and uses the common format of a joke to create a humorous connection between the setup and the punchline.', additional_kwargs={}, response_metadata={'token_usage': {'completion_tokens': 247, 'prompt_tokens': 253, 'total_tokens': 500, 'completion_time': 0.367460049, 'prompt_time': 0.065347236, 'queue_time': 0.045347873, 'total_time': 0.432807285}, 'model_name': 'llama-3.1-8b-instant', 'system_fingerprint': 'fp_c40956ddc4', 'service_tier': 'on_demand', 'finish_reason': 'stop', 'logprobs': None}, id='run--e272e9b9-cf4a-4865-bcf6-331b93463de1-0', usage_metadata={'input_tokens': 253, 'output_tokens': 247, 'total_tokens': 500})}),), interrupts=()),\n",
       " StateSnapshot(values={'topic': 'pizza'}, next=('gen_joke',), config={'configurable': {'thread_id': '1', 'checkpoint_ns': '', 'checkpoint_id': '1f08d66b-6022-6b92-8000-64a2953f6ce3'}}, metadata={'source': 'loop', 'step': 0, 'parents': {}}, created_at='2025-09-09T10:21:12.826152+00:00', parent_config={'configurable': {'thread_id': '1', 'checkpoint_ns': '', 'checkpoint_id': '1f08d66b-6020-650f-bfff-c909225d18b4'}}, tasks=(PregelTask(id='73a3fba0-161d-c189-77da-89e854e13dec', name='gen_joke', path=('__pregel_pull', 'gen_joke'), error=None, interrupts=(), state=None, result={'joke': AIMessage(content='Why did the pizza go to therapy? \\n\\nBecause it was feeling crusty and had a lot of topping issues.', additional_kwargs={}, response_metadata={'token_usage': {'completion_tokens': 24, 'prompt_tokens': 43, 'total_tokens': 67, 'completion_time': 0.026194333, 'prompt_time': 0.084625438, 'queue_time': 0.061955262, 'total_time': 0.110819771}, 'model_name': 'llama-3.1-8b-instant', 'system_fingerprint': 'fp_2115512ff6', 'service_tier': 'on_demand', 'finish_reason': 'stop', 'logprobs': None}, id='run--c8b8323f-712c-4afb-a662-fec948fb6e40-0', usage_metadata={'input_tokens': 43, 'output_tokens': 24, 'total_tokens': 67})}),), interrupts=()),\n",
       " StateSnapshot(values={}, next=('__start__',), config={'configurable': {'thread_id': '1', 'checkpoint_ns': '', 'checkpoint_id': '1f08d66b-6020-650f-bfff-c909225d18b4'}}, metadata={'source': 'input', 'step': -1, 'parents': {}}, created_at='2025-09-09T10:21:12.825166+00:00', parent_config=None, tasks=(PregelTask(id='addb3119-d04c-a7a7-32a0-377f1da9c4c5', name='__start__', path=('__pregel_pull', '__start__'), error=None, interrupts=(), state=None, result={'topic': 'pizza'}),), interrupts=())]"
      ]
     },
     "execution_count": 8,
     "metadata": {},
     "output_type": "execute_result"
    }
   ],
   "source": [
    "# We can even see intermediate states as well\n",
    "list(workflow.get_state_history(config=config))"
   ]
  },
  {
   "cell_type": "code",
   "execution_count": 9,
   "id": "dce6a7bc",
   "metadata": {},
   "outputs": [
    {
     "data": {
      "text/plain": [
       "{'topic': 'pasta',\n",
       " 'joke': AIMessage(content='Why did the spaghetti go to therapy? \\n\\nBecause it was feeling a little \"twisted\" and had a lot of \"noodle\" issues.', additional_kwargs={}, response_metadata={'token_usage': {'completion_tokens': 31, 'prompt_tokens': 43, 'total_tokens': 74, 'completion_time': 0.019696397, 'prompt_time': 0.045835044, 'queue_time': 0.045904596, 'total_time': 0.065531441}, 'model_name': 'llama-3.1-8b-instant', 'system_fingerprint': 'fp_7083106d2c', 'service_tier': 'on_demand', 'finish_reason': 'stop', 'logprobs': None}, id='run--6b3a6325-0cd5-4c4b-925c-b097e9bbbd27-0', usage_metadata={'input_tokens': 43, 'output_tokens': 31, 'total_tokens': 74}),\n",
       " 'explanation': AIMessage(content='This is a joke about a spaghetti going to therapy. Here\\'s a breakdown of the joke:\\n\\n- The setup is \"Why did the spaghetti go to therapy?\" This is a common joke format where the punchline is a play on words or a clever twist on the situation.\\n\\n- The punchline is \"Because it was feeling a little \\'twisted\\' and had a lot of \\'noodle\\' issues.\" This is where the joke relies on wordplay.\\n\\n- \"Twisted\" has a double meaning here. Spaghetti is a type of pasta that is twisted or curved in shape. However, \"twisted\" can also mean emotionally disturbed or mentally unstable, which is why someone might go to therapy.\\n\\n- \"Noodle issues\" is another play on words. \"Noodle\" is a type of pasta, but it\\'s also a colloquialism for problems or issues. So, the joke is saying that the spaghetti has problems (noodle issues) and is emotionally disturbed (twisted).\\n\\nThe joke relies on a combination of wordplay and clever use of language to create a humorous effect.', additional_kwargs={}, response_metadata={'token_usage': {'completion_tokens': 223, 'prompt_tokens': 265, 'total_tokens': 488, 'completion_time': 0.293501066, 'prompt_time': 0.17992706, 'queue_time': 0.050712349, 'total_time': 0.473428126}, 'model_name': 'llama-3.1-8b-instant', 'system_fingerprint': 'fp_2115512ff6', 'service_tier': 'on_demand', 'finish_reason': 'stop', 'logprobs': None}, id='run--44ea8459-00ca-4c47-82d5-0cc4c327d5f8-0', usage_metadata={'input_tokens': 265, 'output_tokens': 223, 'total_tokens': 488})}"
      ]
     },
     "execution_count": 9,
     "metadata": {},
     "output_type": "execute_result"
    }
   ],
   "source": [
    "# MAking config2 \n",
    "config2 = {'configurable': {'thread_id': '2'}}\n",
    "workflow.invoke({'topic':'pasta'}, config = config2)"
   ]
  },
  {
   "cell_type": "code",
   "execution_count": 10,
   "id": "720c4cb0",
   "metadata": {},
   "outputs": [
    {
     "data": {
      "text/plain": [
       "StateSnapshot(values={'topic': 'pasta', 'joke': AIMessage(content='Why did the spaghetti go to therapy? \\n\\nBecause it was feeling a little \"twisted\" and had a lot of \"noodle\" issues.', additional_kwargs={}, response_metadata={'token_usage': {'completion_tokens': 31, 'prompt_tokens': 43, 'total_tokens': 74, 'completion_time': 0.019696397, 'prompt_time': 0.045835044, 'queue_time': 0.045904596, 'total_time': 0.065531441}, 'model_name': 'llama-3.1-8b-instant', 'system_fingerprint': 'fp_7083106d2c', 'service_tier': 'on_demand', 'finish_reason': 'stop', 'logprobs': None}, id='run--6b3a6325-0cd5-4c4b-925c-b097e9bbbd27-0', usage_metadata={'input_tokens': 43, 'output_tokens': 31, 'total_tokens': 74}), 'explanation': AIMessage(content='This is a joke about a spaghetti going to therapy. Here\\'s a breakdown of the joke:\\n\\n- The setup is \"Why did the spaghetti go to therapy?\" This is a common joke format where the punchline is a play on words or a clever twist on the situation.\\n\\n- The punchline is \"Because it was feeling a little \\'twisted\\' and had a lot of \\'noodle\\' issues.\" This is where the joke relies on wordplay.\\n\\n- \"Twisted\" has a double meaning here. Spaghetti is a type of pasta that is twisted or curved in shape. However, \"twisted\" can also mean emotionally disturbed or mentally unstable, which is why someone might go to therapy.\\n\\n- \"Noodle issues\" is another play on words. \"Noodle\" is a type of pasta, but it\\'s also a colloquialism for problems or issues. So, the joke is saying that the spaghetti has problems (noodle issues) and is emotionally disturbed (twisted).\\n\\nThe joke relies on a combination of wordplay and clever use of language to create a humorous effect.', additional_kwargs={}, response_metadata={'token_usage': {'completion_tokens': 223, 'prompt_tokens': 265, 'total_tokens': 488, 'completion_time': 0.293501066, 'prompt_time': 0.17992706, 'queue_time': 0.050712349, 'total_time': 0.473428126}, 'model_name': 'llama-3.1-8b-instant', 'system_fingerprint': 'fp_2115512ff6', 'service_tier': 'on_demand', 'finish_reason': 'stop', 'logprobs': None}, id='run--44ea8459-00ca-4c47-82d5-0cc4c327d5f8-0', usage_metadata={'input_tokens': 265, 'output_tokens': 223, 'total_tokens': 488})}, next=(), config={'configurable': {'thread_id': '2', 'checkpoint_ns': '', 'checkpoint_id': '1f08d66b-755d-6a54-8002-fee7c2b66c9e'}}, metadata={'source': 'loop', 'step': 2, 'parents': {}}, created_at='2025-09-09T10:21:15.052296+00:00', parent_config={'configurable': {'thread_id': '2', 'checkpoint_ns': '', 'checkpoint_id': '1f08d66b-6fa7-66fb-8001-509f055a738f'}}, tasks=(), interrupts=())"
      ]
     },
     "execution_count": 10,
     "metadata": {},
     "output_type": "execute_result"
    }
   ],
   "source": [
    "# For thread id 2, state will also save but differently not in pizza one\n",
    "workflow.get_state(config2)"
   ]
  },
  {
   "cell_type": "code",
   "execution_count": 11,
   "id": "6da3553c",
   "metadata": {},
   "outputs": [
    {
     "data": {
      "text/plain": [
       "StateSnapshot(values={'topic': 'pizza', 'joke': AIMessage(content='Why did the pizza go to therapy? \\n\\nBecause it was feeling crusty and had a lot of topping issues.', additional_kwargs={}, response_metadata={'token_usage': {'completion_tokens': 24, 'prompt_tokens': 43, 'total_tokens': 67, 'completion_time': 0.026194333, 'prompt_time': 0.084625438, 'queue_time': 0.061955262, 'total_time': 0.110819771}, 'model_name': 'llama-3.1-8b-instant', 'system_fingerprint': 'fp_2115512ff6', 'service_tier': 'on_demand', 'finish_reason': 'stop', 'logprobs': None}, id='run--c8b8323f-712c-4afb-a662-fec948fb6e40-0', usage_metadata={'input_tokens': 43, 'output_tokens': 24, 'total_tokens': 67}), 'explanation': AIMessage(content='This is a joke about a pizza going to therapy. Here\\'s a breakdown of the joke:\\n\\n- The setup is \"Why did the pizza go to therapy?\" This is a common joke format where the punchline is a play on words or a unexpected twist.\\n- The punchline is \"Because it was feeling crusty and had a lot of topping issues.\" This is where the joke is. The word \"crusty\" has a double meaning here:\\n  - A pizza crust is the outer layer of a pizza, which is often crispy or crunchy.\\n  - The phrase \"feeling crusty\" is also an idiom that means feeling grumpy or irritable.\\n- The phrase \"had a lot of topping issues\" is also a play on words:\\n  - A pizza topping is a ingredient added on top of the pizza, such as cheese, pepperoni, or vegetables.\\n  - The phrase \"topping issues\" sounds like \"tough issues\" or \"problems\", implying that the pizza has emotional or psychological issues that it needs to work through in therapy.\\n\\nOverall, the joke is a play on words and uses the common format of a joke to create a humorous connection between the setup and the punchline.', additional_kwargs={}, response_metadata={'token_usage': {'completion_tokens': 247, 'prompt_tokens': 253, 'total_tokens': 500, 'completion_time': 0.367460049, 'prompt_time': 0.065347236, 'queue_time': 0.045347873, 'total_time': 0.432807285}, 'model_name': 'llama-3.1-8b-instant', 'system_fingerprint': 'fp_c40956ddc4', 'service_tier': 'on_demand', 'finish_reason': 'stop', 'logprobs': None}, id='run--e272e9b9-cf4a-4865-bcf6-331b93463de1-0', usage_metadata={'input_tokens': 253, 'output_tokens': 247, 'total_tokens': 500})}, next=(), config={'configurable': {'thread_id': '1', 'checkpoint_ns': '', 'checkpoint_id': '1f08d66b-6d15-626a-8002-900a7304d02b'}}, metadata={'source': 'loop', 'step': 2, 'parents': {}}, created_at='2025-09-09T10:21:14.183741+00:00', parent_config={'configurable': {'thread_id': '1', 'checkpoint_ns': '', 'checkpoint_id': '1f08d66b-6780-6a77-8001-bc3793e6f439'}}, tasks=(), interrupts=())"
      ]
     },
     "execution_count": 11,
     "metadata": {},
     "output_type": "execute_result"
    }
   ],
   "source": [
    "# Thread_id basically seems as different classes\n",
    "workflow.get_state(config)"
   ]
  },
  {
   "cell_type": "code",
   "execution_count": 12,
   "id": "c6d2752f",
   "metadata": {},
   "outputs": [
    {
     "data": {
      "text/plain": [
       "[StateSnapshot(values={'topic': 'pasta', 'joke': AIMessage(content='Why did the spaghetti go to therapy? \\n\\nBecause it was feeling a little \"twisted\" and had a lot of \"noodle\" issues.', additional_kwargs={}, response_metadata={'token_usage': {'completion_tokens': 31, 'prompt_tokens': 43, 'total_tokens': 74, 'completion_time': 0.019696397, 'prompt_time': 0.045835044, 'queue_time': 0.045904596, 'total_time': 0.065531441}, 'model_name': 'llama-3.1-8b-instant', 'system_fingerprint': 'fp_7083106d2c', 'service_tier': 'on_demand', 'finish_reason': 'stop', 'logprobs': None}, id='run--6b3a6325-0cd5-4c4b-925c-b097e9bbbd27-0', usage_metadata={'input_tokens': 43, 'output_tokens': 31, 'total_tokens': 74}), 'explanation': AIMessage(content='This is a joke about a spaghetti going to therapy. Here\\'s a breakdown of the joke:\\n\\n- The setup is \"Why did the spaghetti go to therapy?\" This is a common joke format where the punchline is a play on words or a clever twist on the situation.\\n\\n- The punchline is \"Because it was feeling a little \\'twisted\\' and had a lot of \\'noodle\\' issues.\" This is where the joke relies on wordplay.\\n\\n- \"Twisted\" has a double meaning here. Spaghetti is a type of pasta that is twisted or curved in shape. However, \"twisted\" can also mean emotionally disturbed or mentally unstable, which is why someone might go to therapy.\\n\\n- \"Noodle issues\" is another play on words. \"Noodle\" is a type of pasta, but it\\'s also a colloquialism for problems or issues. So, the joke is saying that the spaghetti has problems (noodle issues) and is emotionally disturbed (twisted).\\n\\nThe joke relies on a combination of wordplay and clever use of language to create a humorous effect.', additional_kwargs={}, response_metadata={'token_usage': {'completion_tokens': 223, 'prompt_tokens': 265, 'total_tokens': 488, 'completion_time': 0.293501066, 'prompt_time': 0.17992706, 'queue_time': 0.050712349, 'total_time': 0.473428126}, 'model_name': 'llama-3.1-8b-instant', 'system_fingerprint': 'fp_2115512ff6', 'service_tier': 'on_demand', 'finish_reason': 'stop', 'logprobs': None}, id='run--44ea8459-00ca-4c47-82d5-0cc4c327d5f8-0', usage_metadata={'input_tokens': 265, 'output_tokens': 223, 'total_tokens': 488})}, next=(), config={'configurable': {'thread_id': '2', 'checkpoint_ns': '', 'checkpoint_id': '1f08d66b-755d-6a54-8002-fee7c2b66c9e'}}, metadata={'source': 'loop', 'step': 2, 'parents': {}}, created_at='2025-09-09T10:21:15.052296+00:00', parent_config={'configurable': {'thread_id': '2', 'checkpoint_ns': '', 'checkpoint_id': '1f08d66b-6fa7-66fb-8001-509f055a738f'}}, tasks=(), interrupts=()),\n",
       " StateSnapshot(values={'topic': 'pasta', 'joke': AIMessage(content='Why did the spaghetti go to therapy? \\n\\nBecause it was feeling a little \"twisted\" and had a lot of \"noodle\" issues.', additional_kwargs={}, response_metadata={'token_usage': {'completion_tokens': 31, 'prompt_tokens': 43, 'total_tokens': 74, 'completion_time': 0.019696397, 'prompt_time': 0.045835044, 'queue_time': 0.045904596, 'total_time': 0.065531441}, 'model_name': 'llama-3.1-8b-instant', 'system_fingerprint': 'fp_7083106d2c', 'service_tier': 'on_demand', 'finish_reason': 'stop', 'logprobs': None}, id='run--6b3a6325-0cd5-4c4b-925c-b097e9bbbd27-0', usage_metadata={'input_tokens': 43, 'output_tokens': 31, 'total_tokens': 74})}, next=('gen_explanation',), config={'configurable': {'thread_id': '2', 'checkpoint_ns': '', 'checkpoint_id': '1f08d66b-6fa7-66fb-8001-509f055a738f'}}, metadata={'source': 'loop', 'step': 1, 'parents': {}}, created_at='2025-09-09T10:21:14.453375+00:00', parent_config={'configurable': {'thread_id': '2', 'checkpoint_ns': '', 'checkpoint_id': '1f08d66b-6db8-681d-8000-fa7e2bc3ab33'}}, tasks=(PregelTask(id='de98dcc1-ddeb-5aa7-b4ce-5e53f0ada277', name='gen_explanation', path=('__pregel_pull', 'gen_explanation'), error=None, interrupts=(), state=None, result={'explanation': AIMessage(content='This is a joke about a spaghetti going to therapy. Here\\'s a breakdown of the joke:\\n\\n- The setup is \"Why did the spaghetti go to therapy?\" This is a common joke format where the punchline is a play on words or a clever twist on the situation.\\n\\n- The punchline is \"Because it was feeling a little \\'twisted\\' and had a lot of \\'noodle\\' issues.\" This is where the joke relies on wordplay.\\n\\n- \"Twisted\" has a double meaning here. Spaghetti is a type of pasta that is twisted or curved in shape. However, \"twisted\" can also mean emotionally disturbed or mentally unstable, which is why someone might go to therapy.\\n\\n- \"Noodle issues\" is another play on words. \"Noodle\" is a type of pasta, but it\\'s also a colloquialism for problems or issues. So, the joke is saying that the spaghetti has problems (noodle issues) and is emotionally disturbed (twisted).\\n\\nThe joke relies on a combination of wordplay and clever use of language to create a humorous effect.', additional_kwargs={}, response_metadata={'token_usage': {'completion_tokens': 223, 'prompt_tokens': 265, 'total_tokens': 488, 'completion_time': 0.293501066, 'prompt_time': 0.17992706, 'queue_time': 0.050712349, 'total_time': 0.473428126}, 'model_name': 'llama-3.1-8b-instant', 'system_fingerprint': 'fp_2115512ff6', 'service_tier': 'on_demand', 'finish_reason': 'stop', 'logprobs': None}, id='run--44ea8459-00ca-4c47-82d5-0cc4c327d5f8-0', usage_metadata={'input_tokens': 265, 'output_tokens': 223, 'total_tokens': 488})}),), interrupts=()),\n",
       " StateSnapshot(values={'topic': 'pasta'}, next=('gen_joke',), config={'configurable': {'thread_id': '2', 'checkpoint_ns': '', 'checkpoint_id': '1f08d66b-6db8-681d-8000-fa7e2bc3ab33'}}, metadata={'source': 'loop', 'step': 0, 'parents': {}}, created_at='2025-09-09T10:21:14.250652+00:00', parent_config={'configurable': {'thread_id': '2', 'checkpoint_ns': '', 'checkpoint_id': '1f08d66b-6db6-6125-bfff-f0e33cb7c28a'}}, tasks=(PregelTask(id='5bde2a61-3f70-343e-fd3c-5e662cd92882', name='gen_joke', path=('__pregel_pull', 'gen_joke'), error=None, interrupts=(), state=None, result={'joke': AIMessage(content='Why did the spaghetti go to therapy? \\n\\nBecause it was feeling a little \"twisted\" and had a lot of \"noodle\" issues.', additional_kwargs={}, response_metadata={'token_usage': {'completion_tokens': 31, 'prompt_tokens': 43, 'total_tokens': 74, 'completion_time': 0.019696397, 'prompt_time': 0.045835044, 'queue_time': 0.045904596, 'total_time': 0.065531441}, 'model_name': 'llama-3.1-8b-instant', 'system_fingerprint': 'fp_7083106d2c', 'service_tier': 'on_demand', 'finish_reason': 'stop', 'logprobs': None}, id='run--6b3a6325-0cd5-4c4b-925c-b097e9bbbd27-0', usage_metadata={'input_tokens': 43, 'output_tokens': 31, 'total_tokens': 74})}),), interrupts=()),\n",
       " StateSnapshot(values={}, next=('__start__',), config={'configurable': {'thread_id': '2', 'checkpoint_ns': '', 'checkpoint_id': '1f08d66b-6db6-6125-bfff-f0e33cb7c28a'}}, metadata={'source': 'input', 'step': -1, 'parents': {}}, created_at='2025-09-09T10:21:14.249654+00:00', parent_config=None, tasks=(PregelTask(id='4b251668-8903-ffbf-ce6c-c4a4219c1118', name='__start__', path=('__pregel_pull', '__start__'), error=None, interrupts=(), state=None, result={'topic': 'pasta'}),), interrupts=())]"
      ]
     },
     "execution_count": 12,
     "metadata": {},
     "output_type": "execute_result"
    }
   ],
   "source": [
    "# Intermediate values of config2\n",
    "list(workflow.get_state_history(config2))"
   ]
  },
  {
   "cell_type": "code",
   "execution_count": 13,
   "id": "b5932d07",
   "metadata": {},
   "outputs": [
    {
     "data": {
      "text/plain": [
       "[StateSnapshot(values={'topic': 'pizza', 'joke': AIMessage(content='Why did the pizza go to therapy? \\n\\nBecause it was feeling crusty and had a lot of topping issues.', additional_kwargs={}, response_metadata={'token_usage': {'completion_tokens': 24, 'prompt_tokens': 43, 'total_tokens': 67, 'completion_time': 0.026194333, 'prompt_time': 0.084625438, 'queue_time': 0.061955262, 'total_time': 0.110819771}, 'model_name': 'llama-3.1-8b-instant', 'system_fingerprint': 'fp_2115512ff6', 'service_tier': 'on_demand', 'finish_reason': 'stop', 'logprobs': None}, id='run--c8b8323f-712c-4afb-a662-fec948fb6e40-0', usage_metadata={'input_tokens': 43, 'output_tokens': 24, 'total_tokens': 67}), 'explanation': AIMessage(content='This is a joke about a pizza going to therapy. Here\\'s a breakdown of the joke:\\n\\n- The setup is \"Why did the pizza go to therapy?\" This is a common joke format where the punchline is a play on words or a unexpected twist.\\n- The punchline is \"Because it was feeling crusty and had a lot of topping issues.\" This is where the joke is. The word \"crusty\" has a double meaning here:\\n  - A pizza crust is the outer layer of a pizza, which is often crispy or crunchy.\\n  - The phrase \"feeling crusty\" is also an idiom that means feeling grumpy or irritable.\\n- The phrase \"had a lot of topping issues\" is also a play on words:\\n  - A pizza topping is a ingredient added on top of the pizza, such as cheese, pepperoni, or vegetables.\\n  - The phrase \"topping issues\" sounds like \"tough issues\" or \"problems\", implying that the pizza has emotional or psychological issues that it needs to work through in therapy.\\n\\nOverall, the joke is a play on words and uses the common format of a joke to create a humorous connection between the setup and the punchline.', additional_kwargs={}, response_metadata={'token_usage': {'completion_tokens': 247, 'prompt_tokens': 253, 'total_tokens': 500, 'completion_time': 0.367460049, 'prompt_time': 0.065347236, 'queue_time': 0.045347873, 'total_time': 0.432807285}, 'model_name': 'llama-3.1-8b-instant', 'system_fingerprint': 'fp_c40956ddc4', 'service_tier': 'on_demand', 'finish_reason': 'stop', 'logprobs': None}, id='run--e272e9b9-cf4a-4865-bcf6-331b93463de1-0', usage_metadata={'input_tokens': 253, 'output_tokens': 247, 'total_tokens': 500})}, next=(), config={'configurable': {'thread_id': '1', 'checkpoint_ns': '', 'checkpoint_id': '1f08d66b-6d15-626a-8002-900a7304d02b'}}, metadata={'source': 'loop', 'step': 2, 'parents': {}}, created_at='2025-09-09T10:21:14.183741+00:00', parent_config={'configurable': {'thread_id': '1', 'checkpoint_ns': '', 'checkpoint_id': '1f08d66b-6780-6a77-8001-bc3793e6f439'}}, tasks=(), interrupts=()),\n",
       " StateSnapshot(values={'topic': 'pizza', 'joke': AIMessage(content='Why did the pizza go to therapy? \\n\\nBecause it was feeling crusty and had a lot of topping issues.', additional_kwargs={}, response_metadata={'token_usage': {'completion_tokens': 24, 'prompt_tokens': 43, 'total_tokens': 67, 'completion_time': 0.026194333, 'prompt_time': 0.084625438, 'queue_time': 0.061955262, 'total_time': 0.110819771}, 'model_name': 'llama-3.1-8b-instant', 'system_fingerprint': 'fp_2115512ff6', 'service_tier': 'on_demand', 'finish_reason': 'stop', 'logprobs': None}, id='run--c8b8323f-712c-4afb-a662-fec948fb6e40-0', usage_metadata={'input_tokens': 43, 'output_tokens': 24, 'total_tokens': 67})}, next=('gen_explanation',), config={'configurable': {'thread_id': '1', 'checkpoint_ns': '', 'checkpoint_id': '1f08d66b-6780-6a77-8001-bc3793e6f439'}}, metadata={'source': 'loop', 'step': 1, 'parents': {}}, created_at='2025-09-09T10:21:13.598629+00:00', parent_config={'configurable': {'thread_id': '1', 'checkpoint_ns': '', 'checkpoint_id': '1f08d66b-6022-6b92-8000-64a2953f6ce3'}}, tasks=(PregelTask(id='ef47082a-03c7-73c0-2cdd-00d1a4e8cf4e', name='gen_explanation', path=('__pregel_pull', 'gen_explanation'), error=None, interrupts=(), state=None, result={'explanation': AIMessage(content='This is a joke about a pizza going to therapy. Here\\'s a breakdown of the joke:\\n\\n- The setup is \"Why did the pizza go to therapy?\" This is a common joke format where the punchline is a play on words or a unexpected twist.\\n- The punchline is \"Because it was feeling crusty and had a lot of topping issues.\" This is where the joke is. The word \"crusty\" has a double meaning here:\\n  - A pizza crust is the outer layer of a pizza, which is often crispy or crunchy.\\n  - The phrase \"feeling crusty\" is also an idiom that means feeling grumpy or irritable.\\n- The phrase \"had a lot of topping issues\" is also a play on words:\\n  - A pizza topping is a ingredient added on top of the pizza, such as cheese, pepperoni, or vegetables.\\n  - The phrase \"topping issues\" sounds like \"tough issues\" or \"problems\", implying that the pizza has emotional or psychological issues that it needs to work through in therapy.\\n\\nOverall, the joke is a play on words and uses the common format of a joke to create a humorous connection between the setup and the punchline.', additional_kwargs={}, response_metadata={'token_usage': {'completion_tokens': 247, 'prompt_tokens': 253, 'total_tokens': 500, 'completion_time': 0.367460049, 'prompt_time': 0.065347236, 'queue_time': 0.045347873, 'total_time': 0.432807285}, 'model_name': 'llama-3.1-8b-instant', 'system_fingerprint': 'fp_c40956ddc4', 'service_tier': 'on_demand', 'finish_reason': 'stop', 'logprobs': None}, id='run--e272e9b9-cf4a-4865-bcf6-331b93463de1-0', usage_metadata={'input_tokens': 253, 'output_tokens': 247, 'total_tokens': 500})}),), interrupts=()),\n",
       " StateSnapshot(values={'topic': 'pizza'}, next=('gen_joke',), config={'configurable': {'thread_id': '1', 'checkpoint_ns': '', 'checkpoint_id': '1f08d66b-6022-6b92-8000-64a2953f6ce3'}}, metadata={'source': 'loop', 'step': 0, 'parents': {}}, created_at='2025-09-09T10:21:12.826152+00:00', parent_config={'configurable': {'thread_id': '1', 'checkpoint_ns': '', 'checkpoint_id': '1f08d66b-6020-650f-bfff-c909225d18b4'}}, tasks=(PregelTask(id='73a3fba0-161d-c189-77da-89e854e13dec', name='gen_joke', path=('__pregel_pull', 'gen_joke'), error=None, interrupts=(), state=None, result={'joke': AIMessage(content='Why did the pizza go to therapy? \\n\\nBecause it was feeling crusty and had a lot of topping issues.', additional_kwargs={}, response_metadata={'token_usage': {'completion_tokens': 24, 'prompt_tokens': 43, 'total_tokens': 67, 'completion_time': 0.026194333, 'prompt_time': 0.084625438, 'queue_time': 0.061955262, 'total_time': 0.110819771}, 'model_name': 'llama-3.1-8b-instant', 'system_fingerprint': 'fp_2115512ff6', 'service_tier': 'on_demand', 'finish_reason': 'stop', 'logprobs': None}, id='run--c8b8323f-712c-4afb-a662-fec948fb6e40-0', usage_metadata={'input_tokens': 43, 'output_tokens': 24, 'total_tokens': 67})}),), interrupts=()),\n",
       " StateSnapshot(values={}, next=('__start__',), config={'configurable': {'thread_id': '1', 'checkpoint_ns': '', 'checkpoint_id': '1f08d66b-6020-650f-bfff-c909225d18b4'}}, metadata={'source': 'input', 'step': -1, 'parents': {}}, created_at='2025-09-09T10:21:12.825166+00:00', parent_config=None, tasks=(PregelTask(id='addb3119-d04c-a7a7-32a0-377f1da9c4c5', name='__start__', path=('__pregel_pull', '__start__'), error=None, interrupts=(), state=None, result={'topic': 'pizza'}),), interrupts=())]"
      ]
     },
     "execution_count": 13,
     "metadata": {},
     "output_type": "execute_result"
    }
   ],
   "source": [
    "#  Intermediate values of config2\n",
    "list(workflow.get_state_history(config))"
   ]
  },
  {
   "cell_type": "markdown",
   "id": "ff983d37",
   "metadata": {},
   "source": [
    "## Time Travel\n",
    "Here we can reach to any intermediate state by using their checkpoint id. Suppose we want "
   ]
  },
  {
   "cell_type": "code",
   "execution_count": 14,
   "id": "6f0601c8",
   "metadata": {},
   "outputs": [
    {
     "data": {
      "text/plain": [
       "StateSnapshot(values={}, next=(), config={'configurable': {'thread_id': '1', 'checkpoint_id': '1f08c03a-5bda-6c48-8000-ad51063f0f3e'}}, metadata=None, created_at=None, parent_config=None, tasks=(), interrupts=())"
      ]
     },
     "execution_count": 14,
     "metadata": {},
     "output_type": "execute_result"
    }
   ],
   "source": [
    "workflow.get_state({'configurable':{'thread_id': '1', 'checkpoint_id': '1f08c03a-5bda-6c48-8000-ad51063f0f3e'}})"
   ]
  },
  {
   "cell_type": "code",
   "execution_count": 15,
   "id": "45fe772c",
   "metadata": {},
   "outputs": [
    {
     "ename": "EmptyInputError",
     "evalue": "Received no input for __start__",
     "output_type": "error",
     "traceback": [
      "\u001b[31m---------------------------------------------------------------------------\u001b[39m",
      "\u001b[31mEmptyInputError\u001b[39m                           Traceback (most recent call last)",
      "\u001b[36mCell\u001b[39m\u001b[36m \u001b[39m\u001b[32mIn[15]\u001b[39m\u001b[32m, line 2\u001b[39m\n\u001b[32m      1\u001b[39m \u001b[38;5;66;03m# Invoking the workflow from the state where we just had the topic\u001b[39;00m\n\u001b[32m----> \u001b[39m\u001b[32m2\u001b[39m \u001b[43mworkflow\u001b[49m\u001b[43m.\u001b[49m\u001b[43minvoke\u001b[49m\u001b[43m(\u001b[49m\u001b[38;5;28;43;01mNone\u001b[39;49;00m\u001b[43m,\u001b[49m\u001b[43m \u001b[49m\u001b[43m{\u001b[49m\u001b[33;43m'\u001b[39;49m\u001b[33;43mconfigurable\u001b[39;49m\u001b[33;43m'\u001b[39;49m\u001b[43m:\u001b[49m\u001b[43m{\u001b[49m\u001b[33;43m'\u001b[39;49m\u001b[33;43mthread_id\u001b[39;49m\u001b[33;43m'\u001b[39;49m\u001b[43m:\u001b[49m\u001b[43m \u001b[49m\u001b[33;43m'\u001b[39;49m\u001b[33;43m1\u001b[39;49m\u001b[33;43m'\u001b[39;49m\u001b[43m,\u001b[49m\u001b[43m \u001b[49m\u001b[33;43m'\u001b[39;49m\u001b[33;43mcheckpoint_id\u001b[39;49m\u001b[33;43m'\u001b[39;49m\u001b[43m:\u001b[49m\u001b[43m \u001b[49m\u001b[33;43m'\u001b[39;49m\u001b[33;43m1f08c03a-5bda-6c48-8000-ad51063f0f3e\u001b[39;49m\u001b[33;43m'\u001b[39;49m\u001b[43m \u001b[49m\u001b[43m}\u001b[49m\u001b[43m}\u001b[49m\u001b[43m \u001b[49m\u001b[43m)\u001b[49m\n",
      "\u001b[36mFile \u001b[39m\u001b[32me:\\Langgraph-Tutorials\\myenv\\Lib\\site-packages\\langgraph\\pregel\\main.py:3026\u001b[39m, in \u001b[36mPregel.invoke\u001b[39m\u001b[34m(self, input, config, context, stream_mode, print_mode, output_keys, interrupt_before, interrupt_after, durability, **kwargs)\u001b[39m\n\u001b[32m   3023\u001b[39m chunks: \u001b[38;5;28mlist\u001b[39m[\u001b[38;5;28mdict\u001b[39m[\u001b[38;5;28mstr\u001b[39m, Any] | Any] = []\n\u001b[32m   3024\u001b[39m interrupts: \u001b[38;5;28mlist\u001b[39m[Interrupt] = []\n\u001b[32m-> \u001b[39m\u001b[32m3026\u001b[39m \u001b[43m\u001b[49m\u001b[38;5;28;43;01mfor\u001b[39;49;00m\u001b[43m \u001b[49m\u001b[43mchunk\u001b[49m\u001b[43m \u001b[49m\u001b[38;5;129;43;01min\u001b[39;49;00m\u001b[43m \u001b[49m\u001b[38;5;28;43mself\u001b[39;49m\u001b[43m.\u001b[49m\u001b[43mstream\u001b[49m\u001b[43m(\u001b[49m\n\u001b[32m   3027\u001b[39m \u001b[43m    \u001b[49m\u001b[38;5;28;43minput\u001b[39;49m\u001b[43m,\u001b[49m\n\u001b[32m   3028\u001b[39m \u001b[43m    \u001b[49m\u001b[43mconfig\u001b[49m\u001b[43m,\u001b[49m\n\u001b[32m   3029\u001b[39m \u001b[43m    \u001b[49m\u001b[43mcontext\u001b[49m\u001b[43m=\u001b[49m\u001b[43mcontext\u001b[49m\u001b[43m,\u001b[49m\n\u001b[32m   3030\u001b[39m \u001b[43m    \u001b[49m\u001b[43mstream_mode\u001b[49m\u001b[43m=\u001b[49m\u001b[43m[\u001b[49m\u001b[33;43m\"\u001b[39;49m\u001b[33;43mupdates\u001b[39;49m\u001b[33;43m\"\u001b[39;49m\u001b[43m,\u001b[49m\u001b[43m \u001b[49m\u001b[33;43m\"\u001b[39;49m\u001b[33;43mvalues\u001b[39;49m\u001b[33;43m\"\u001b[39;49m\u001b[43m]\u001b[49m\n\u001b[32m   3031\u001b[39m \u001b[43m    \u001b[49m\u001b[38;5;28;43;01mif\u001b[39;49;00m\u001b[43m \u001b[49m\u001b[43mstream_mode\u001b[49m\u001b[43m \u001b[49m\u001b[43m==\u001b[49m\u001b[43m \u001b[49m\u001b[33;43m\"\u001b[39;49m\u001b[33;43mvalues\u001b[39;49m\u001b[33;43m\"\u001b[39;49m\n\u001b[32m   3032\u001b[39m \u001b[43m    \u001b[49m\u001b[38;5;28;43;01melse\u001b[39;49;00m\u001b[43m \u001b[49m\u001b[43mstream_mode\u001b[49m\u001b[43m,\u001b[49m\n\u001b[32m   3033\u001b[39m \u001b[43m    \u001b[49m\u001b[43mprint_mode\u001b[49m\u001b[43m=\u001b[49m\u001b[43mprint_mode\u001b[49m\u001b[43m,\u001b[49m\n\u001b[32m   3034\u001b[39m \u001b[43m    \u001b[49m\u001b[43moutput_keys\u001b[49m\u001b[43m=\u001b[49m\u001b[43moutput_keys\u001b[49m\u001b[43m,\u001b[49m\n\u001b[32m   3035\u001b[39m \u001b[43m    \u001b[49m\u001b[43minterrupt_before\u001b[49m\u001b[43m=\u001b[49m\u001b[43minterrupt_before\u001b[49m\u001b[43m,\u001b[49m\n\u001b[32m   3036\u001b[39m \u001b[43m    \u001b[49m\u001b[43minterrupt_after\u001b[49m\u001b[43m=\u001b[49m\u001b[43minterrupt_after\u001b[49m\u001b[43m,\u001b[49m\n\u001b[32m   3037\u001b[39m \u001b[43m    \u001b[49m\u001b[43mdurability\u001b[49m\u001b[43m=\u001b[49m\u001b[43mdurability\u001b[49m\u001b[43m,\u001b[49m\n\u001b[32m   3038\u001b[39m \u001b[43m    \u001b[49m\u001b[43m*\u001b[49m\u001b[43m*\u001b[49m\u001b[43mkwargs\u001b[49m\u001b[43m,\u001b[49m\n\u001b[32m   3039\u001b[39m \u001b[43m\u001b[49m\u001b[43m)\u001b[49m\u001b[43m:\u001b[49m\n\u001b[32m   3040\u001b[39m \u001b[43m    \u001b[49m\u001b[38;5;28;43;01mif\u001b[39;49;00m\u001b[43m \u001b[49m\u001b[43mstream_mode\u001b[49m\u001b[43m \u001b[49m\u001b[43m==\u001b[49m\u001b[43m \u001b[49m\u001b[33;43m\"\u001b[39;49m\u001b[33;43mvalues\u001b[39;49m\u001b[33;43m\"\u001b[39;49m\u001b[43m:\u001b[49m\n\u001b[32m   3041\u001b[39m \u001b[43m        \u001b[49m\u001b[38;5;28;43;01mif\u001b[39;49;00m\u001b[43m \u001b[49m\u001b[38;5;28;43mlen\u001b[39;49m\u001b[43m(\u001b[49m\u001b[43mchunk\u001b[49m\u001b[43m)\u001b[49m\u001b[43m \u001b[49m\u001b[43m==\u001b[49m\u001b[43m \u001b[49m\u001b[32;43m2\u001b[39;49m\u001b[43m:\u001b[49m\n",
      "\u001b[36mFile \u001b[39m\u001b[32me:\\Langgraph-Tutorials\\myenv\\Lib\\site-packages\\langgraph\\pregel\\main.py:2582\u001b[39m, in \u001b[36mPregel.stream\u001b[39m\u001b[34m(self, input, config, context, stream_mode, print_mode, output_keys, interrupt_before, interrupt_after, durability, subgraphs, debug, **kwargs)\u001b[39m\n\u001b[32m   2579\u001b[39m runtime = parent_runtime.merge(runtime)\n\u001b[32m   2580\u001b[39m config[CONF][CONFIG_KEY_RUNTIME] = runtime\n\u001b[32m-> \u001b[39m\u001b[32m2582\u001b[39m \u001b[43m\u001b[49m\u001b[38;5;28;43;01mwith\u001b[39;49;00m\u001b[43m \u001b[49m\u001b[43mSyncPregelLoop\u001b[49m\u001b[43m(\u001b[49m\n\u001b[32m   2583\u001b[39m \u001b[43m    \u001b[49m\u001b[38;5;28;43minput\u001b[39;49m\u001b[43m,\u001b[49m\n\u001b[32m   2584\u001b[39m \u001b[43m    \u001b[49m\u001b[43mstream\u001b[49m\u001b[43m=\u001b[49m\u001b[43mStreamProtocol\u001b[49m\u001b[43m(\u001b[49m\u001b[43mstream\u001b[49m\u001b[43m.\u001b[49m\u001b[43mput\u001b[49m\u001b[43m,\u001b[49m\u001b[43m \u001b[49m\u001b[43mstream_modes\u001b[49m\u001b[43m)\u001b[49m\u001b[43m,\u001b[49m\n\u001b[32m   2585\u001b[39m \u001b[43m    \u001b[49m\u001b[43mconfig\u001b[49m\u001b[43m=\u001b[49m\u001b[43mconfig\u001b[49m\u001b[43m,\u001b[49m\n\u001b[32m   2586\u001b[39m \u001b[43m    \u001b[49m\u001b[43mstore\u001b[49m\u001b[43m=\u001b[49m\u001b[43mstore\u001b[49m\u001b[43m,\u001b[49m\n\u001b[32m   2587\u001b[39m \u001b[43m    \u001b[49m\u001b[43mcache\u001b[49m\u001b[43m=\u001b[49m\u001b[43mcache\u001b[49m\u001b[43m,\u001b[49m\n\u001b[32m   2588\u001b[39m \u001b[43m    \u001b[49m\u001b[43mcheckpointer\u001b[49m\u001b[43m=\u001b[49m\u001b[43mcheckpointer\u001b[49m\u001b[43m,\u001b[49m\n\u001b[32m   2589\u001b[39m \u001b[43m    \u001b[49m\u001b[43mnodes\u001b[49m\u001b[43m=\u001b[49m\u001b[38;5;28;43mself\u001b[39;49m\u001b[43m.\u001b[49m\u001b[43mnodes\u001b[49m\u001b[43m,\u001b[49m\n\u001b[32m   2590\u001b[39m \u001b[43m    \u001b[49m\u001b[43mspecs\u001b[49m\u001b[43m=\u001b[49m\u001b[38;5;28;43mself\u001b[39;49m\u001b[43m.\u001b[49m\u001b[43mchannels\u001b[49m\u001b[43m,\u001b[49m\n\u001b[32m   2591\u001b[39m \u001b[43m    \u001b[49m\u001b[43moutput_keys\u001b[49m\u001b[43m=\u001b[49m\u001b[43moutput_keys\u001b[49m\u001b[43m,\u001b[49m\n\u001b[32m   2592\u001b[39m \u001b[43m    \u001b[49m\u001b[43minput_keys\u001b[49m\u001b[43m=\u001b[49m\u001b[38;5;28;43mself\u001b[39;49m\u001b[43m.\u001b[49m\u001b[43minput_channels\u001b[49m\u001b[43m,\u001b[49m\n\u001b[32m   2593\u001b[39m \u001b[43m    \u001b[49m\u001b[43mstream_keys\u001b[49m\u001b[43m=\u001b[49m\u001b[38;5;28;43mself\u001b[39;49m\u001b[43m.\u001b[49m\u001b[43mstream_channels_asis\u001b[49m\u001b[43m,\u001b[49m\n\u001b[32m   2594\u001b[39m \u001b[43m    \u001b[49m\u001b[43minterrupt_before\u001b[49m\u001b[43m=\u001b[49m\u001b[43minterrupt_before_\u001b[49m\u001b[43m,\u001b[49m\n\u001b[32m   2595\u001b[39m \u001b[43m    \u001b[49m\u001b[43minterrupt_after\u001b[49m\u001b[43m=\u001b[49m\u001b[43minterrupt_after_\u001b[49m\u001b[43m,\u001b[49m\n\u001b[32m   2596\u001b[39m \u001b[43m    \u001b[49m\u001b[43mmanager\u001b[49m\u001b[43m=\u001b[49m\u001b[43mrun_manager\u001b[49m\u001b[43m,\u001b[49m\n\u001b[32m   2597\u001b[39m \u001b[43m    \u001b[49m\u001b[43mdurability\u001b[49m\u001b[43m=\u001b[49m\u001b[43mdurability_\u001b[49m\u001b[43m,\u001b[49m\n\u001b[32m   2598\u001b[39m \u001b[43m    \u001b[49m\u001b[43mtrigger_to_nodes\u001b[49m\u001b[43m=\u001b[49m\u001b[38;5;28;43mself\u001b[39;49m\u001b[43m.\u001b[49m\u001b[43mtrigger_to_nodes\u001b[49m\u001b[43m,\u001b[49m\n\u001b[32m   2599\u001b[39m \u001b[43m    \u001b[49m\u001b[43mmigrate_checkpoint\u001b[49m\u001b[43m=\u001b[49m\u001b[38;5;28;43mself\u001b[39;49m\u001b[43m.\u001b[49m\u001b[43m_migrate_checkpoint\u001b[49m\u001b[43m,\u001b[49m\n\u001b[32m   2600\u001b[39m \u001b[43m    \u001b[49m\u001b[43mretry_policy\u001b[49m\u001b[43m=\u001b[49m\u001b[38;5;28;43mself\u001b[39;49m\u001b[43m.\u001b[49m\u001b[43mretry_policy\u001b[49m\u001b[43m,\u001b[49m\n\u001b[32m   2601\u001b[39m \u001b[43m    \u001b[49m\u001b[43mcache_policy\u001b[49m\u001b[43m=\u001b[49m\u001b[38;5;28;43mself\u001b[39;49m\u001b[43m.\u001b[49m\u001b[43mcache_policy\u001b[49m\u001b[43m,\u001b[49m\n\u001b[32m   2602\u001b[39m \u001b[43m\u001b[49m\u001b[43m)\u001b[49m\u001b[43m \u001b[49m\u001b[38;5;28;43;01mas\u001b[39;49;00m\u001b[43m \u001b[49m\u001b[43mloop\u001b[49m\u001b[43m:\u001b[49m\n\u001b[32m   2603\u001b[39m \u001b[43m    \u001b[49m\u001b[38;5;66;43;03m# create runner\u001b[39;49;00m\n\u001b[32m   2604\u001b[39m \u001b[43m    \u001b[49m\u001b[43mrunner\u001b[49m\u001b[43m \u001b[49m\u001b[43m=\u001b[49m\u001b[43m \u001b[49m\u001b[43mPregelRunner\u001b[49m\u001b[43m(\u001b[49m\n\u001b[32m   2605\u001b[39m \u001b[43m        \u001b[49m\u001b[43msubmit\u001b[49m\u001b[43m=\u001b[49m\u001b[43mconfig\u001b[49m\u001b[43m[\u001b[49m\u001b[43mCONF\u001b[49m\u001b[43m]\u001b[49m\u001b[43m.\u001b[49m\u001b[43mget\u001b[49m\u001b[43m(\u001b[49m\n\u001b[32m   2606\u001b[39m \u001b[43m            \u001b[49m\u001b[43mCONFIG_KEY_RUNNER_SUBMIT\u001b[49m\u001b[43m,\u001b[49m\u001b[43m \u001b[49m\u001b[43mweakref\u001b[49m\u001b[43m.\u001b[49m\u001b[43mWeakMethod\u001b[49m\u001b[43m(\u001b[49m\u001b[43mloop\u001b[49m\u001b[43m.\u001b[49m\u001b[43msubmit\u001b[49m\u001b[43m)\u001b[49m\n\u001b[32m   (...)\u001b[39m\u001b[32m   2609\u001b[39m \u001b[43m        \u001b[49m\u001b[43mnode_finished\u001b[49m\u001b[43m=\u001b[49m\u001b[43mconfig\u001b[49m\u001b[43m[\u001b[49m\u001b[43mCONF\u001b[49m\u001b[43m]\u001b[49m\u001b[43m.\u001b[49m\u001b[43mget\u001b[49m\u001b[43m(\u001b[49m\u001b[43mCONFIG_KEY_NODE_FINISHED\u001b[49m\u001b[43m)\u001b[49m\u001b[43m,\u001b[49m\n\u001b[32m   2610\u001b[39m \u001b[43m    \u001b[49m\u001b[43m)\u001b[49m\n\u001b[32m   2611\u001b[39m \u001b[43m    \u001b[49m\u001b[38;5;66;43;03m# enable subgraph streaming\u001b[39;49;00m\n",
      "\u001b[36mFile \u001b[39m\u001b[32me:\\Langgraph-Tutorials\\myenv\\Lib\\site-packages\\langgraph\\pregel\\_loop.py:1044\u001b[39m, in \u001b[36mSyncPregelLoop.__enter__\u001b[39m\u001b[34m(self)\u001b[39m\n\u001b[32m   1042\u001b[39m \u001b[38;5;28mself\u001b[39m.stop = \u001b[38;5;28mself\u001b[39m.step + \u001b[38;5;28mself\u001b[39m.config[\u001b[33m\"\u001b[39m\u001b[33mrecursion_limit\u001b[39m\u001b[33m\"\u001b[39m] + \u001b[32m1\u001b[39m\n\u001b[32m   1043\u001b[39m \u001b[38;5;28mself\u001b[39m.checkpoint_previous_versions = \u001b[38;5;28mself\u001b[39m.checkpoint[\u001b[33m\"\u001b[39m\u001b[33mchannel_versions\u001b[39m\u001b[33m\"\u001b[39m].copy()\n\u001b[32m-> \u001b[39m\u001b[32m1044\u001b[39m \u001b[38;5;28mself\u001b[39m.updated_channels = \u001b[38;5;28;43mself\u001b[39;49m\u001b[43m.\u001b[49m\u001b[43m_first\u001b[49m\u001b[43m(\u001b[49m\n\u001b[32m   1045\u001b[39m \u001b[43m    \u001b[49m\u001b[43minput_keys\u001b[49m\u001b[43m=\u001b[49m\u001b[38;5;28;43mself\u001b[39;49m\u001b[43m.\u001b[49m\u001b[43minput_keys\u001b[49m\u001b[43m,\u001b[49m\n\u001b[32m   1046\u001b[39m \u001b[43m    \u001b[49m\u001b[43mupdated_channels\u001b[49m\u001b[43m=\u001b[49m\u001b[38;5;28;43mset\u001b[39;49m\u001b[43m(\u001b[49m\u001b[38;5;28;43mself\u001b[39;49m\u001b[43m.\u001b[49m\u001b[43mcheckpoint\u001b[49m\u001b[43m.\u001b[49m\u001b[43mget\u001b[49m\u001b[43m(\u001b[49m\u001b[33;43m\"\u001b[39;49m\u001b[33;43mupdated_channels\u001b[39;49m\u001b[33;43m\"\u001b[39;49m\u001b[43m)\u001b[49m\u001b[43m)\u001b[49m\u001b[43m  \u001b[49m\u001b[38;5;66;43;03m# type: ignore[arg-type]\u001b[39;49;00m\n\u001b[32m   1047\u001b[39m \u001b[43m    \u001b[49m\u001b[38;5;28;43;01mif\u001b[39;49;00m\u001b[43m \u001b[49m\u001b[38;5;28;43mself\u001b[39;49m\u001b[43m.\u001b[49m\u001b[43mcheckpoint\u001b[49m\u001b[43m.\u001b[49m\u001b[43mget\u001b[49m\u001b[43m(\u001b[49m\u001b[33;43m\"\u001b[39;49m\u001b[33;43mupdated_channels\u001b[39;49m\u001b[33;43m\"\u001b[39;49m\u001b[43m)\u001b[49m\n\u001b[32m   1048\u001b[39m \u001b[43m    \u001b[49m\u001b[38;5;28;43;01melse\u001b[39;49;00m\u001b[43m \u001b[49m\u001b[38;5;28;43;01mNone\u001b[39;49;00m\u001b[43m,\u001b[49m\n\u001b[32m   1049\u001b[39m \u001b[43m\u001b[49m\u001b[43m)\u001b[49m\n\u001b[32m   1051\u001b[39m \u001b[38;5;28;01mreturn\u001b[39;00m \u001b[38;5;28mself\u001b[39m\n",
      "\u001b[36mFile \u001b[39m\u001b[32me:\\Langgraph-Tutorials\\myenv\\Lib\\site-packages\\langgraph\\pregel\\_loop.py:670\u001b[39m, in \u001b[36mPregelLoop._first\u001b[39m\u001b[34m(self, input_keys, updated_channels)\u001b[39m\n\u001b[32m    668\u001b[39m     \u001b[38;5;28mself\u001b[39m._put_checkpoint({\u001b[33m\"\u001b[39m\u001b[33msource\u001b[39m\u001b[33m\"\u001b[39m: \u001b[33m\"\u001b[39m\u001b[33minput\u001b[39m\u001b[33m\"\u001b[39m})\n\u001b[32m    669\u001b[39m \u001b[38;5;28;01melif\u001b[39;00m CONFIG_KEY_RESUMING \u001b[38;5;129;01mnot\u001b[39;00m \u001b[38;5;129;01min\u001b[39;00m configurable:\n\u001b[32m--> \u001b[39m\u001b[32m670\u001b[39m     \u001b[38;5;28;01mraise\u001b[39;00m EmptyInputError(\u001b[33mf\u001b[39m\u001b[33m\"\u001b[39m\u001b[33mReceived no input for \u001b[39m\u001b[38;5;132;01m{\u001b[39;00minput_keys\u001b[38;5;132;01m}\u001b[39;00m\u001b[33m\"\u001b[39m)\n\u001b[32m    671\u001b[39m \u001b[38;5;66;03m# update config\u001b[39;00m\n\u001b[32m    672\u001b[39m \u001b[38;5;28;01mif\u001b[39;00m \u001b[38;5;129;01mnot\u001b[39;00m \u001b[38;5;28mself\u001b[39m.is_nested:\n",
      "\u001b[31mEmptyInputError\u001b[39m: Received no input for __start__"
     ]
    }
   ],
   "source": [
    "# Invoking the workflow from the state where we just had the topic\n",
    "workflow.invoke(None, {'configurable':{'thread_id': '1', 'checkpoint_id': '1f08c03a-5bda-6c48-8000-ad51063f0f3e' }} )"
   ]
  },
  {
   "cell_type": "code",
   "execution_count": null,
   "id": "dbc84cab",
   "metadata": {},
   "outputs": [],
   "source": [
    "list(workflow.get_state_history(config=config))"
   ]
  },
  {
   "cell_type": "code",
   "execution_count": null,
   "id": "207ae6e4",
   "metadata": {},
   "outputs": [],
   "source": [
    "workflow.get_state({'configurable':{'thread_id': '1', 'checkpoint_id': '1f08c03a-5bda-6c48-8000-ad51063f0f3e'}})"
   ]
  },
  {
   "cell_type": "code",
   "execution_count": null,
   "id": "6d91ed9b",
   "metadata": {},
   "outputs": [],
   "source": []
  }
 ],
 "metadata": {
  "kernelspec": {
   "display_name": "myenv",
   "language": "python",
   "name": "python3"
  },
  "language_info": {
   "codemirror_mode": {
    "name": "ipython",
    "version": 3
   },
   "file_extension": ".py",
   "mimetype": "text/x-python",
   "name": "python",
   "nbconvert_exporter": "python",
   "pygments_lexer": "ipython3",
   "version": "3.12.7"
  }
 },
 "nbformat": 4,
 "nbformat_minor": 5
}
