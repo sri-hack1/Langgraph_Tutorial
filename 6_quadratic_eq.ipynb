{
 "cells": [
  {
   "cell_type": "markdown",
   "id": "5d1e809f",
   "metadata": {},
   "source": [
    "### Simple conditional Workflow"
   ]
  },
  {
   "cell_type": "markdown",
   "id": "d700218d",
   "metadata": {},
   "source": [
    "Here we'll make a workflow of solving a quadratic eqn"
   ]
  },
  {
   "cell_type": "code",
   "execution_count": 7,
   "id": "2e43e723",
   "metadata": {},
   "outputs": [],
   "source": [
    "from langgraph.graph import StateGraph, START, END\n",
    "from typing import TypedDict, Literal\n",
    "import math"
   ]
  },
  {
   "cell_type": "code",
   "execution_count": 8,
   "id": "ff0704bc",
   "metadata": {},
   "outputs": [],
   "source": [
    "# Create a state\n",
    "class QdState(TypedDict):\n",
    "    a : int\n",
    "    b :int\n",
    "    c: int\n",
    "    equation: str\n",
    "    discriminant: float\n",
    "    result: str"
   ]
  },
  {
   "cell_type": "code",
   "execution_count": 9,
   "id": "2cc04752",
   "metadata": {},
   "outputs": [],
   "source": [
    "# Fucntion for show_eqn\n",
    "def show_eqn(state: QdState)->QdState:\n",
    "    equation = f\"{state[\"a\"]}x2+ {state[\"b\"]}x + {state[\"c\"]}\"\n",
    "    return {\n",
    "        \"equation\": equation\n",
    "    }\n",
    "\n",
    "# Function to calculate d\n",
    "def cal_d(state: QdState)-> QdState:\n",
    "    discriminant = state[\"b\"]**2 - (4* state[\"a\"] * state[\"c\"])\n",
    "    return {\"discriminant\": discriminant}"
   ]
  },
  {
   "cell_type": "code",
   "execution_count": 10,
   "id": "aa3207c5",
   "metadata": {},
   "outputs": [],
   "source": [
    "# fucntion for roots\n",
    "def real_roots(state: QdState)-> QdState:\n",
    "    root1 = (-state[\"b\"] + math.sqrt(state[\"discriminant\"]))/2*state[\"a\"]\n",
    "    root2 = (-state[\"b\"] - math.sqrt(state[\"discriminant\"]))/2*state[\"a\"]\n",
    "    result = f\"The roots are {root1} and {root2}\"\n",
    "    return {\"result\": result}\n",
    "\n",
    "def no_real_roots(state: QdState)-> QdState:\n",
    "    result = \"No real roots\"\n",
    "    return {\"result\": result}\n",
    "\n",
    "\n",
    "def repeated_roots(state: QdState)-> QdState:\n",
    "    root = -state[\"b\"] / (2*state[\"a\"])\n",
    "    result = f\"The repeated roots are {root}\"\n",
    "    return {\"result\": result}\n",
    "\n",
    "def check_cond(state: QdState)-> Literal[\"real_roots\", \"no_real_roots\", \"repeated_roots\"]:\n",
    "    if state[\"discriminant\"] > 0:\n",
    "        return \"real_roots\"\n",
    "    elif state[\"discriminant\"] == 0:\n",
    "        return \"repeated_roots\"\n",
    "    else:\n",
    "        return \"no_real_roots\""
   ]
  },
  {
   "cell_type": "code",
   "execution_count": 17,
   "id": "7a906de4",
   "metadata": {},
   "outputs": [
    {
     "data": {
      "image/png": "[encoded data removed]",
      "text/plain": [
       "<langgraph.graph.state.CompiledStateGraph object at 0x0000020C662E33B0>"
      ]
     },
     "execution_count": 17,
     "metadata": {},
     "output_type": "execute_result"
    }
   ],
   "source": [
    "# Building the Graph\n",
    "graph = StateGraph(QdState)\n",
    "\n",
    "# Creatind node\n",
    "graph.add_node(\"show_eqn\", show_eqn)\n",
    "graph.add_node(\"cal_d\", cal_d)\n",
    "graph.add_node(\"no_real_roots\", no_real_roots)\n",
    "graph.add_node(\"real_roots\", real_roots)\n",
    "graph.add_node(\"repeated_roots\", repeated_roots)\n",
    "\n",
    "# Add edge\n",
    "graph.add_edge(START, \"show_eqn\")\n",
    "graph.add_edge(\"show_eqn\", \"cal_d\")\n",
    "\n",
    "graph.add_conditional_edges(\"cal_d\", check_cond)\n",
    "# graph.add_edge(\"cal_d\", \"real_roots\")\n",
    "# graph.add_edge(\"cal_d\", \"no_real_roots\")\n",
    "# graph.add_edge(\"cal_d\", \"repeated_roots\")\n",
    "graph.add_edge(\"real_roots\",END)\n",
    "graph.add_edge(\"no_real_roots\",END)\n",
    "graph.add_edge(\"repeated_roots\",END)\n",
    "\n",
    "# Compile the graph\n",
    "workflow = graph.compile()\n",
    "workflow"
   ]
  },
  {
   "cell_type": "code",
   "execution_count": 16,
   "id": "d8eef9d6",
   "metadata": {},
   "outputs": [
    {
     "data": {
      "text/plain": [
       "{'a': 4,\n",
       " 'b': -5,\n",
       " 'c': -4,\n",
       " 'equation': '4x2+ -5x + -4',\n",
       " 'discriminant': 89,\n",
       " 'result': 'The roots are 28.867962264113206 and -8.867962264113206'}"
      ]
     },
     "execution_count": 16,
     "metadata": {},
     "output_type": "execute_result"
    }
   ],
   "source": [
    "initial_state = {\n",
    "    \"a\": 4, \"b\":-5, \"c\":-4\n",
    "}\n",
    "workflow.invoke(initial_state)"
   ]
  },
  {
   "cell_type": "code",
   "execution_count": null,
   "id": "75ca81bf",
   "metadata": {},
   "outputs": [],
   "source": []
  }
 ],
 "metadata": {
  "kernelspec": {
   "display_name": "myenv",
   "language": "python",
   "name": "python3"
  },
  "language_info": {
   "codemirror_mode": {
    "name": "ipython",
    "version": 3
   },
   "file_extension": ".py",
   "mimetype": "text/x-python",
   "name": "python",
   "nbconvert_exporter": "python",
   "pygments_lexer": "ipython3",
   "version": "3.12.7"
  }
 },
 "nbformat": 4,
 "nbformat_minor": 5
}
