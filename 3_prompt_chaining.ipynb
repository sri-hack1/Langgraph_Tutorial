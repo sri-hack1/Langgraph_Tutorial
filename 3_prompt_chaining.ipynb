{
 "cells": [
  {
   "cell_type": "markdown",
   "id": "0417f736",
   "metadata": {},
   "source": [
    "### Making Blogs by topic by llm chain"
   ]
  },
  {
   "cell_type": "markdown",
   "id": "54d8dfa3",
   "metadata": {},
   "source": [
    "Start---->Topic --->LLM+prompt--->Outline--->LLM+prompt---> Blog--->END\n",
    "                   "
   ]
  },
  {
   "cell_type": "code",
   "execution_count": 9,
   "id": "12ef5b10",
   "metadata": {},
   "outputs": [],
   "source": [
    "from langgraph.graph import StateGraph, START, END\n",
    "from typing import TypedDict\n",
    "from langchain_groq import ChatGroq\n",
    "from dotenv import load_dotenv\n"
   ]
  },
  {
   "cell_type": "code",
   "execution_count": 10,
   "id": "afc27522",
   "metadata": {},
   "outputs": [],
   "source": [
    "load_dotenv()\n",
    "\n",
    "model = ChatGroq(model=\"llama-3.1-8b-instant\", temperature=0)"
   ]
  },
  {
   "cell_type": "code",
   "execution_count": 11,
   "id": "e53a67fc",
   "metadata": {},
   "outputs": [],
   "source": [
    "# Create state\n",
    "class BlogState(TypedDict):\n",
    "    topic: str\n",
    "    outline: str\n",
    "    blog: str"
   ]
  },
  {
   "cell_type": "code",
   "execution_count": 12,
   "id": "588a72cb",
   "metadata": {},
   "outputs": [],
   "source": [
    "# Creating function for each step\n",
    "def create_outline(state: BlogState)-> BlogState:\n",
    "    # Fetch title from state\n",
    "    topic = state[\"topic\"]\n",
    "    # Create prompt\n",
    "    prompt = f\"You are a blog writer. Create a detailed outline for a blog post about {topic}.\"\n",
    "    # Call LLm model\n",
    "    outline = model.invoke(prompt)\n",
    "    # Store outline in state\n",
    "    state[\"outline\"] = outline\n",
    "    \n",
    "    return state\n",
    "\n",
    "\n",
    "def write_blog(state: BlogState) -> BlogState:\n",
    "    # Fetch outline from state\n",
    "    outline = state[\"outline\"]\n",
    "    # Create prompt\n",
    "    prompt = f\"You are a blog writer. Write a detailed blog post based on the following outline:\\n{outline}\"\n",
    "    # Call LLLm model for blog writing\n",
    "    blog = model.invoke(prompt)\n",
    "    # Update the state\n",
    "    state[\"blog\"] = blog\n",
    "    \n",
    "    return state"
   ]
  },
  {
   "cell_type": "code",
   "execution_count": 14,
   "id": "c333d31e",
   "metadata": {},
   "outputs": [
    {
     "data": {
      "image/png": "[encoded data removed]",
      "text/plain": [
       "<langgraph.graph.state.CompiledStateGraph object at 0x0000021854E54E90>"
      ]
     },
     "execution_count": 14,
     "metadata": {},
     "output_type": "execute_result"
    }
   ],
   "source": [
    "# Create the graph\n",
    "graph = StateGraph(BlogState)\n",
    "\n",
    "# ADD nodes\n",
    "graph.add_node(\"create_outline\", create_outline)\n",
    "graph.add_node(\"write_blog\", write_blog)\n",
    "\n",
    "# Add edges\n",
    "graph.add_edge(START, \"create_outline\")\n",
    "graph.add_edge(\"create_outline\", \"write_blog\")\n",
    "graph.add_edge(\"write_blog\", END)\n",
    "\n",
    "# Compile the graph\n",
    "workflow = graph.compile()\n",
    "workflow\n",
    "\n"
   ]
  },
  {
   "cell_type": "code",
   "execution_count": 16,
   "id": "585b4c59",
   "metadata": {},
   "outputs": [
    {
     "name": "stdout",
     "output_type": "stream",
     "text": [
      "**The Future of Agentic AI: Exploring the Possibilities and Challenges of Autonomous Artificial Intelligence**\n",
      "\n",
      "As we continue to push the boundaries of artificial intelligence (AI), one area that has garnered significant attention in recent years is Agentic AI. This type of AI is designed to be autonomous, self-aware, and capable of making decisions without human intervention. In this blog post, we will explore the current state of Agentic AI, its future developments, and the challenges it poses, including accountability, ethics, and job displacement.\n",
      "\n",
      "**I. Introduction**\n",
      "\n",
      "Agentic AI is a type of AI that is designed to be proactive, goal-oriented, and able to interact with its environment in a meaningful way. It is based on the concept of agency, which refers to the ability of an entity to act independently and make decisions that are not predetermined by its programming. Agentic AI has the potential to revolutionize various industries and aspects of our lives, but it also raises concerns about accountability, ethics, and job displacement.\n",
      "\n",
      "Understanding the future of Agentic AI is crucial for several reasons. Firstly, it has the potential to transform the way we live and work, making it essential to consider its implications on society. Secondly, the development of Agentic AI raises important questions about accountability, ethics, and bias, which need to be addressed to ensure that these systems are developed and deployed responsibly. Finally, the future of Agentic AI will have a significant impact on the job market, making it essential to consider the potential consequences of automation and job displacement.\n",
      "\n",
      "**II. Current State of Agentic AI**\n",
      "\n",
      "Agentic AI is still in its early stages of development, but it has already shown significant promise in various applications. Some examples of current Agentic AI applications include:\n",
      "\n",
      "* Chatbots: These are computer programs that use natural language processing (NLP) to simulate human-like conversations with users.\n",
      "* Virtual assistants: These are AI-powered assistants that can perform tasks such as scheduling appointments, sending emails, and making phone calls.\n",
      "* Autonomous vehicles: These are vehicles that can navigate and operate without human intervention, using a combination of sensors, GPS, and AI algorithms.\n",
      "\n",
      "While these applications have shown significant promise, they also have limitations. For example, chatbots are often limited in their ability to understand context and nuance, while virtual assistants can be prone to errors and biases. Autonomous vehicles, on the other hand, raise significant concerns about safety and accountability.\n",
      "\n",
      "**III. Future Developments in Agentic AI**\n",
      "\n",
      "The future of Agentic AI is likely to be shaped by several key developments, including:\n",
      "\n",
      "* Advancements in machine learning and deep learning: These technologies have the potential to enable Agentic AI systems to learn and adapt in complex and dynamic environments.\n",
      "* Integration of cognitive architectures and symbolic reasoning: This will enable Agentic AI systems to reason and make decisions in a more human-like way.\n",
      "* Potential applications in various industries: Agentic AI has the potential to transform industries such as healthcare, finance, and education, making it essential to consider its implications on these sectors.\n",
      "\n",
      "Some potential applications of Agentic AI in various industries include:\n",
      "\n",
      "* Healthcare: Agentic AI could be used to develop personalized treatment plans, predict patient outcomes, and optimize healthcare resource allocation.\n",
      "* Finance: Agentic AI could be used to develop predictive models of financial markets, optimize investment portfolios, and detect financial crimes.\n",
      "* Education: Agentic AI could be used to develop personalized learning plans, optimize educational resource allocation, and detect early warning signs of student disengagement.\n",
      "\n",
      "**IV. Autonomous Decision-Making and Accountability**\n",
      "\n",
      "One of the key challenges of Agentic AI is ensuring accountability for its actions. As Agentic AI systems become more autonomous, it becomes increasingly difficult to hold them accountable for their decisions. This raises significant concerns about transparency, explainability, and bias.\n",
      "\n",
      "To address these concerns, it is essential to develop Agentic AI systems that are transparent and explainable. This can be achieved through the use of techniques such as model interpretability, feature attribution, and model-agnostic explanations.\n",
      "\n",
      "**V. Ethics and Bias in Agentic AI**\n",
      "\n",
      "Agentic AI has the potential to perpetuate and amplify existing biases, making it essential to address these concerns through diverse and inclusive AI development. This can be achieved through the use of techniques such as data curation, debiasing, and fairness metrics.\n",
      "\n",
      "Some potential solutions for mitigating bias in Agentic AI include:\n",
      "\n",
      "* Data curation: This involves selecting and preprocessing data to ensure that it is representative and unbiased.\n",
      "* Debiasing: This involves using techniques such as regularization, data augmentation, and adversarial training to reduce bias in Agentic AI systems.\n",
      "* Fairness metrics: These involve using metrics such as accuracy, precision, and recall to evaluate the fairness of Agentic AI systems.\n",
      "\n",
      "**VI. Job Displacement and the Future of Work**\n",
      "\n",
      "The development of Agentic AI has the potential to transform the job market, making it essential to consider the potential consequences of automation and job displacement. While Agentic AI has the potential to create new job opportunities, it also raises significant concerns about job displacement and the future of work.\n",
      "\n",
      "To mitigate the impact of Agentic AI on employment, it is essential to develop strategies for retraining and upskilling workers. This can be achieved through the use of techniques such as education programs, vocational training, and lifelong learning.\n",
      "\n",
      "**VII. Conclusion**\n",
      "\n",
      "The future of Agentic AI is likely to be shaped by several key developments, including advancements in machine learning and deep learning, integration of cognitive architectures and symbolic reasoning, and potential applications in various industries. While Agentic AI has the potential to revolutionize various industries and aspects of our lives, it also raises significant concerns about accountability, ethics, and job displacement.\n",
      "\n",
      "To ensure the responsible development and deployment of Agentic AI, it is essential to address these concerns through diverse and inclusive AI development. This can be achieved through the use of techniques such as data curation, debiasing, and fairness metrics, as well as strategies for retraining and upskilling workers.\n",
      "\n",
      "**VIII. Recommendations for Future Research and Development**\n",
      "\n",
      "Based on the analysis presented in this blog post, we recommend the following priorities for future research and development in Agentic AI:\n",
      "\n",
      "* Explainability: Developing Agentic AI systems that are transparent and explainable is essential for ensuring accountability and trust.\n",
      "* Accountability: Developing strategies for holding Agentic AI systems accountable for their actions is essential for ensuring that these systems are developed and deployed responsibly.\n",
      "* Bias mitigation: Developing techniques for mitigating bias in Agentic AI systems is essential for ensuring that these systems are fair and unbiased.\n",
      "\n",
      "We also recommend the following potential applications and industries for future Agentic AI development:\n",
      "\n",
      "* Healthcare: Developing Agentic AI systems that can optimize healthcare resource allocation, predict patient outcomes, and develop personalized treatment plans.\n",
      "* Finance: Developing Agentic AI systems that can predict financial markets, optimize investment portfolios, and detect financial crimes.\n",
      "* Education: Developing Agentic AI systems that can develop personalized learning plans, optimize educational resource allocation, and detect early warning signs of student disengagement.\n",
      "\n",
      "Finally, we recommend the need for interdisciplinary collaboration and public engagement in Agentic AI research and development. This can be achieved through the use of techniques such as co-design, participatory design, and public outreach and engagement.\n",
      "\n",
      "**IX. References**\n",
      "\n",
      "This blog post is based on a comprehensive review of the literature on Agentic AI. Some key sources include:\n",
      "\n",
      "* Russell, S. J., & Norvig, P. (2010). Artificial intelligence: A modern approach. Prentice Hall.\n",
      "* Sutton, R. S., & Barto, A. G. (2018). Reinforcement learning: An introduction. MIT Press.\n",
      "* Lake, B. M., Ullman, T. D., Tenenbaum, J. B., & Gershman, S. J. (2017). Building machines that learn and think like people. Behavioral and Brain Sciences, 40, e253.\n",
      "\n",
      "**X. Appendices**\n",
      "\n",
      "This blog post includes several appendices that provide additional information and resources for readers.\n",
      "\n",
      "* Glossary of Agentic AI terms: This appendix provides a comprehensive glossary of Agentic AI terms, including definitions and explanations.\n",
      "* Timeline of Agentic AI developments: This appendix provides a timeline of key developments in Agentic AI, including milestones and achievements.\n",
      "* List of recommended readings and resources: This appendix provides a list of recommended readings and resources for further learning on Agentic AI, including books, articles, and online courses.\n"
     ]
    }
   ],
   "source": [
    "# Execute the workflow\n",
    "initial_state = {\"topic\": \"The future of Agentic AI\"}\n",
    "final_state = workflow.invoke(initial_state)\n",
    "print(final_state[\"blog\"].content)"
   ]
  },
  {
   "cell_type": "code",
   "execution_count": 19,
   "id": "915336fd",
   "metadata": {},
   "outputs": [
    {
     "name": "stdout",
     "output_type": "stream",
     "text": [
      "**Title:** \"The Future of Agentic AI: Exploring the Possibilities and Challenges of Autonomous Artificial Intelligence\"\n",
      "\n",
      "**I. Introduction**\n",
      "\n",
      "* Brief overview of Agentic AI and its significance\n",
      "* Importance of understanding the future of Agentic AI\n",
      "* Thesis statement: As Agentic AI continues to evolve, it will revolutionize various industries and aspects of our lives, but it also raises concerns about accountability, ethics, and job displacement.\n",
      "\n",
      "**II. Current State of Agentic AI**\n",
      "\n",
      "* Definition and explanation of Agentic AI\n",
      "* Examples of current Agentic AI applications (e.g., chatbots, virtual assistants, autonomous vehicles)\n",
      "* Discussion of the benefits and limitations of current Agentic AI systems\n",
      "\n",
      "**III. Future Developments in Agentic AI**\n",
      "\n",
      "* Advancements in machine learning and deep learning\n",
      "* Integration of cognitive architectures and symbolic reasoning\n",
      "* Potential applications of Agentic AI in various industries (e.g., healthcare, finance, education)\n",
      "* Discussion of the potential benefits and risks of these developments\n",
      "\n",
      "**IV. Autonomous Decision-Making and Accountability**\n",
      "\n",
      "* Challenges of holding Agentic AI systems accountable for their actions\n",
      "* Discussion of the need for transparent and explainable AI decision-making processes\n",
      "* Potential solutions for ensuring accountability, such as auditing and regulation\n",
      "\n",
      "**V. Ethics and Bias in Agentic AI**\n",
      "\n",
      "* Discussion of the potential for Agentic AI to perpetuate and amplify existing biases\n",
      "* Importance of addressing these biases through diverse and inclusive AI development\n",
      "* Potential solutions for mitigating bias, such as data curation and debiasing techniques\n",
      "\n",
      "**VI. Job Displacement and the Future of Work**\n",
      "\n",
      "* Discussion of the potential impact of Agentic AI on employment and job displacement\n",
      "* Importance of retraining and upskilling workers to adapt to changing job market\n",
      "* Potential solutions for mitigating job displacement, such as universal basic income and education programs\n",
      "\n",
      "**VII. Conclusion**\n",
      "\n",
      "* Recap of the future possibilities and challenges of Agentic AI\n",
      "* Call to action for researchers, policymakers, and industry leaders to work together to ensure the responsible development and deployment of Agentic AI.\n",
      "\n",
      "**VIII. Recommendations for Future Research and Development**\n",
      "\n",
      "* Priorities for future research in Agentic AI (e.g., explainability, accountability, bias mitigation)\n",
      "* Potential applications and industries for future Agentic AI development\n",
      "* Discussion of the need for interdisciplinary collaboration and public engagement in Agentic AI research and development.\n",
      "\n",
      "**IX. References**\n",
      "\n",
      "* List of sources cited in the blog post, formatted according to chosen citation style.\n",
      "\n",
      "**X. Appendices**\n",
      "\n",
      "* Additional resources and information for readers, such as:\n",
      "\t+ Glossary of Agentic AI terms\n",
      "\t+ Timeline of Agentic AI developments\n",
      "\t+ List of recommended readings and resources for further learning.\n"
     ]
    }
   ],
   "source": [
    "print(final_state[\"outline\"].content)"
   ]
  },
  {
   "cell_type": "code",
   "execution_count": null,
   "id": "488d4baf",
   "metadata": {},
   "outputs": [],
   "source": []
  }
 ],
 "metadata": {
  "kernelspec": {
   "display_name": "myenv",
   "language": "python",
   "name": "python3"
  },
  "language_info": {
   "codemirror_mode": {
    "name": "ipython",
    "version": 3
   },
   "file_extension": ".py",
   "mimetype": "text/x-python",
   "name": "python",
   "nbconvert_exporter": "python",
   "pygments_lexer": "ipython3",
   "version": "3.12.7"
  }
 },
 "nbformat": 4,
 "nbformat_minor": 5
}
