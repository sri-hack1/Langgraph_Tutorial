{
 "cells": [
  {
   "cell_type": "markdown",
   "id": "709fc0c0",
   "metadata": {},
   "source": [
    "### Parallel workflow"
   ]
  },
  {
   "cell_type": "markdown",
   "id": "f6a35613",
   "metadata": {},
   "source": [
    " Start---       |-- Strike Rate\n",
    "        |\n",
    "        |-- Boundary percentage\n",
    "        |\n",
    "        |-- Ball per boundary"
   ]
  },
  {
   "cell_type": "code",
   "execution_count": 41,
   "id": "a14e5a6d",
   "metadata": {},
   "outputs": [],
   "source": [
    "from langgraph.graph import StateGraph, START, END\n",
    "from typing import TypedDict\n"
   ]
  },
  {
   "cell_type": "code",
   "execution_count": 42,
   "id": "95bef830",
   "metadata": {},
   "outputs": [],
   "source": [
    "# Create state\n",
    "class BatsmanState(TypedDict):\n",
    "    runs: int\n",
    "    balls: int\n",
    "    fours: int\n",
    "    sixes: int\n",
    "    strike_rate: float\n",
    "    boundary_percentage: float\n",
    "    balls_per_boundary: float\n",
    "    summary: str"
   ]
  },
  {
   "cell_type": "code",
   "execution_count": null,
   "id": "ed3efca1",
   "metadata": {},
   "outputs": [],
   "source": [
    "# Function to calculate strike rate\n",
    "def cal_sr(state:BatsmanState)->BatsmanState:\n",
    "    sr = (state[\"runs\"])/state[\"balls\"]*100\n",
    "    \n",
    "    return {\"strike_rate\": sr}\n",
    "\n",
    "# Funtion to calculate boundary percentage\n",
    "def cal_bp(state: BatsmanState)-> BatsmanState:\n",
    "    bp = (state[\"fours\"] + state[\"sixes\"])/state[\"balls\"]*100\n",
    "    # state[\"boundary_percentage\"] = bp  we're not doing this because it can conflicting the others stat values as well\n",
    "    return {\"boundary_percentage\":bp}\n",
    "\n",
    "# Fuction to calculate balls per boundary\n",
    "def cal_bperb(state:BatsmanState)-> BatsmanState:\n",
    "    bperb = state[\"balls\"]/(state[\"fours\"] + state[\"sixes\"])\n",
    "    # state[\"balls_per_boundary\"] = bperb (doing partial updates)\n",
    "    return {\"balls_per_boundary\": bperb}\n",
    "\n",
    "# Fuunction for summary\n",
    "def summary(state: BatsmanState)->BatsmanState: \n",
    "    summary = f\"\"\"The batsman scored {state['runs']} \\n\n",
    "    runs off {state['balls']} balls with a strike rate of {state['strike_rate']:.2f}.\n",
    "    He hit {state['fours']} fours \n",
    "    and {state['sixes']} sixes, \n",
    "    resulting in a boundary percentage of {state['boundary_percentage']:.2f}%. On average,\n",
    "    he hit a boundary every {state['balls_per_boundary']:.2f} balls\"\"\"\n",
    "    # state[\"summary\"] = summary\n",
    "    return {\"summary\":summary}\n"
   ]
  },
  {
   "cell_type": "code",
   "execution_count": 44,
   "id": "a806345b",
   "metadata": {},
   "outputs": [
    {
     "data": {
      "image/png": "[encoded data removed]",
      "text/plain": [
       "<langgraph.graph.state.CompiledStateGraph object at 0x000001B4EE8CFAD0>"
      ]
     },
     "execution_count": 44,
     "metadata": {},
     "output_type": "execute_result"
    }
   ],
   "source": [
    "# Create the graph\n",
    "graph = StateGraph(BatsmanState)\n",
    "\n",
    "# Create nodes\n",
    "graph.add_node(\"cal_sr\", cal_sr)\n",
    "graph.add_node(\"cal_bp\", cal_bp)\n",
    "graph.add_node(\"cal_bperb\", cal_bperb)\n",
    "graph.add_node(\"summary\", summary)\n",
    "\n",
    "# Create edges\n",
    "graph.add_edge(START, \"cal_sr\")\n",
    "graph.add_edge(START, \"cal_bp\")\n",
    "graph.add_edge(START, \"cal_bperb\")\n",
    "\n",
    "graph.add_edge(\"cal_sr\", \"summary\")\n",
    "graph.add_edge(\"cal_bp\", \"summary\")\n",
    "graph.add_edge(\"cal_bperb\", \"summary\")\n",
    "\n",
    "graph.add_edge(\"summary\", END)\n",
    "# compile graph\n",
    "workflow = graph.compile()\n",
    "workflow"
   ]
  },
  {
   "cell_type": "code",
   "execution_count": 46,
   "id": "0fd6b79a",
   "metadata": {},
   "outputs": [
    {
     "name": "stdout",
     "output_type": "stream",
     "text": [
      "{'runs': 100, 'balls': 30, 'fours': 6, 'sixes': 10, 'strike_rate': 333.33333333333337, 'boundary_percentage': 53.333333333333336, 'balls_per_boundary': 1.875, 'summary': 'The batsman scored 100 \\n\\n    runs off 30 balls with a strike rate of 333.33.\\n    He hit 6 fours \\n    and 10 sixes, \\n    resulting in a boundary percentage of 53.33%. On average,\\n    he hit a boundary every 1.88 balls'}\n"
     ]
    }
   ],
   "source": [
    "initial_state = {\n",
    "    \"runs\": 100,\n",
    "    \"balls\":30,\n",
    "    \"fours\":6,\n",
    "    \"sixes\":10\n",
    "}\n",
    "\n",
    "final_state = workflow.invoke(initial_state)\n",
    "print(final_state)"
   ]
  },
  {
   "cell_type": "code",
   "execution_count": null,
   "id": "bd606a7a",
   "metadata": {},
   "outputs": [],
   "source": []
  }
 ],
 "metadata": {
  "kernelspec": {
   "display_name": "myenv",
   "language": "python",
   "name": "python3"
  },
  "language_info": {
   "codemirror_mode": {
    "name": "ipython",
    "version": 3
   },
   "file_extension": ".py",
   "mimetype": "text/x-python",
   "name": "python",
   "nbconvert_exporter": "python",
   "pygments_lexer": "ipython3",
   "version": "3.12.7"
  }
 },
 "nbformat": 4,
 "nbformat_minor": 5
}
